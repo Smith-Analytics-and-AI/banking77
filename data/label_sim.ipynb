{
 "cells": [
  {
   "cell_type": "code",
   "execution_count": 13,
   "metadata": {},
   "outputs": [],
   "source": [
    "from sklearn.metrics.pairwise import cosine_similarity, euclidean_distances\n",
    "from  sklearn.feature_extraction.text import CountVectorizer\n",
    "\n",
    "from scipy import sparse\n",
    "import pandas as pd\n",
    "import numpy as np\n",
    "\n",
    "import seaborn as sns\n"
   ]
  },
  {
   "cell_type": "code",
   "execution_count": 3,
   "metadata": {},
   "outputs": [],
   "source": [
    "model = 'clean_embed_all-mpnet-base-v2.csv'\n",
    "df = pd.read_csv('/global/project/hpcg1614_shared/ca/data/banking77/{}'.format(model))\n",
    "df_orig = pd.read_csv('clean.csv')"
   ]
  },
  {
   "cell_type": "code",
   "execution_count": 9,
   "metadata": {},
   "outputs": [
    {
     "data": {
      "text/html": [
       "<div>\n",
       "<style scoped>\n",
       "    .dataframe tbody tr th:only-of-type {\n",
       "        vertical-align: middle;\n",
       "    }\n",
       "\n",
       "    .dataframe tbody tr th {\n",
       "        vertical-align: top;\n",
       "    }\n",
       "\n",
       "    .dataframe thead th {\n",
       "        text-align: right;\n",
       "    }\n",
       "</style>\n",
       "<table border=\"1\" class=\"dataframe\">\n",
       "  <thead>\n",
       "    <tr style=\"text-align: right;\">\n",
       "      <th></th>\n",
       "      <th>0</th>\n",
       "      <th>1</th>\n",
       "      <th>2</th>\n",
       "      <th>3</th>\n",
       "      <th>4</th>\n",
       "      <th>5</th>\n",
       "      <th>6</th>\n",
       "      <th>7</th>\n",
       "      <th>8</th>\n",
       "      <th>9</th>\n",
       "      <th>...</th>\n",
       "      <th>759</th>\n",
       "      <th>760</th>\n",
       "      <th>761</th>\n",
       "      <th>762</th>\n",
       "      <th>763</th>\n",
       "      <th>764</th>\n",
       "      <th>765</th>\n",
       "      <th>766</th>\n",
       "      <th>767</th>\n",
       "      <th>category</th>\n",
       "    </tr>\n",
       "  </thead>\n",
       "  <tbody>\n",
       "    <tr>\n",
       "      <th>0</th>\n",
       "      <td>0.033118</td>\n",
       "      <td>0.024241</td>\n",
       "      <td>-0.027198</td>\n",
       "      <td>0.012669</td>\n",
       "      <td>-0.027675</td>\n",
       "      <td>0.018258</td>\n",
       "      <td>0.000166</td>\n",
       "      <td>0.018616</td>\n",
       "      <td>-0.020171</td>\n",
       "      <td>-0.015402</td>\n",
       "      <td>...</td>\n",
       "      <td>-0.003783</td>\n",
       "      <td>0.021030</td>\n",
       "      <td>0.040517</td>\n",
       "      <td>-0.063602</td>\n",
       "      <td>0.059316</td>\n",
       "      <td>-0.015556</td>\n",
       "      <td>0.001022</td>\n",
       "      <td>-0.035402</td>\n",
       "      <td>-0.019583</td>\n",
       "      <td>card_arrival</td>\n",
       "    </tr>\n",
       "    <tr>\n",
       "      <th>1</th>\n",
       "      <td>0.025349</td>\n",
       "      <td>0.036361</td>\n",
       "      <td>-0.024998</td>\n",
       "      <td>0.023817</td>\n",
       "      <td>-0.024528</td>\n",
       "      <td>0.011564</td>\n",
       "      <td>0.016364</td>\n",
       "      <td>0.029498</td>\n",
       "      <td>-0.008534</td>\n",
       "      <td>-0.006400</td>\n",
       "      <td>...</td>\n",
       "      <td>-0.018929</td>\n",
       "      <td>0.015788</td>\n",
       "      <td>0.028341</td>\n",
       "      <td>-0.051970</td>\n",
       "      <td>0.030264</td>\n",
       "      <td>-0.003601</td>\n",
       "      <td>0.014045</td>\n",
       "      <td>-0.013700</td>\n",
       "      <td>-0.023940</td>\n",
       "      <td>card_arrival</td>\n",
       "    </tr>\n",
       "    <tr>\n",
       "      <th>2</th>\n",
       "      <td>0.041148</td>\n",
       "      <td>0.001923</td>\n",
       "      <td>-0.024474</td>\n",
       "      <td>0.065703</td>\n",
       "      <td>-0.050962</td>\n",
       "      <td>-0.030485</td>\n",
       "      <td>-0.025799</td>\n",
       "      <td>0.036423</td>\n",
       "      <td>-0.037173</td>\n",
       "      <td>-0.011324</td>\n",
       "      <td>...</td>\n",
       "      <td>0.005138</td>\n",
       "      <td>0.066294</td>\n",
       "      <td>0.047694</td>\n",
       "      <td>-0.083163</td>\n",
       "      <td>0.038658</td>\n",
       "      <td>-0.027191</td>\n",
       "      <td>-0.022017</td>\n",
       "      <td>-0.036791</td>\n",
       "      <td>-0.030673</td>\n",
       "      <td>card_arrival</td>\n",
       "    </tr>\n",
       "    <tr>\n",
       "      <th>3</th>\n",
       "      <td>-0.047038</td>\n",
       "      <td>0.064994</td>\n",
       "      <td>-0.016703</td>\n",
       "      <td>0.018665</td>\n",
       "      <td>0.024756</td>\n",
       "      <td>0.021976</td>\n",
       "      <td>0.029501</td>\n",
       "      <td>-0.046115</td>\n",
       "      <td>-0.023410</td>\n",
       "      <td>-0.021121</td>\n",
       "      <td>...</td>\n",
       "      <td>-0.018219</td>\n",
       "      <td>0.051667</td>\n",
       "      <td>0.067599</td>\n",
       "      <td>-0.037037</td>\n",
       "      <td>0.041919</td>\n",
       "      <td>-0.050325</td>\n",
       "      <td>0.024547</td>\n",
       "      <td>-0.039276</td>\n",
       "      <td>-0.041093</td>\n",
       "      <td>card_arrival</td>\n",
       "    </tr>\n",
       "    <tr>\n",
       "      <th>4</th>\n",
       "      <td>0.038647</td>\n",
       "      <td>0.050879</td>\n",
       "      <td>-0.009709</td>\n",
       "      <td>0.033243</td>\n",
       "      <td>0.007472</td>\n",
       "      <td>-0.012450</td>\n",
       "      <td>-0.006902</td>\n",
       "      <td>0.030302</td>\n",
       "      <td>-0.020504</td>\n",
       "      <td>0.025630</td>\n",
       "      <td>...</td>\n",
       "      <td>-0.024887</td>\n",
       "      <td>0.039557</td>\n",
       "      <td>0.045903</td>\n",
       "      <td>-0.038753</td>\n",
       "      <td>0.054652</td>\n",
       "      <td>0.024629</td>\n",
       "      <td>-0.015520</td>\n",
       "      <td>0.061558</td>\n",
       "      <td>-0.020172</td>\n",
       "      <td>card_arrival</td>\n",
       "    </tr>\n",
       "  </tbody>\n",
       "</table>\n",
       "<p>5 rows × 769 columns</p>\n",
       "</div>"
      ],
      "text/plain": [
       "          0         1         2         3         4         5         6  \\\n",
       "0  0.033118  0.024241 -0.027198  0.012669 -0.027675  0.018258  0.000166   \n",
       "1  0.025349  0.036361 -0.024998  0.023817 -0.024528  0.011564  0.016364   \n",
       "2  0.041148  0.001923 -0.024474  0.065703 -0.050962 -0.030485 -0.025799   \n",
       "3 -0.047038  0.064994 -0.016703  0.018665  0.024756  0.021976  0.029501   \n",
       "4  0.038647  0.050879 -0.009709  0.033243  0.007472 -0.012450 -0.006902   \n",
       "\n",
       "          7         8         9  ...       759       760       761       762  \\\n",
       "0  0.018616 -0.020171 -0.015402  ... -0.003783  0.021030  0.040517 -0.063602   \n",
       "1  0.029498 -0.008534 -0.006400  ... -0.018929  0.015788  0.028341 -0.051970   \n",
       "2  0.036423 -0.037173 -0.011324  ...  0.005138  0.066294  0.047694 -0.083163   \n",
       "3 -0.046115 -0.023410 -0.021121  ... -0.018219  0.051667  0.067599 -0.037037   \n",
       "4  0.030302 -0.020504  0.025630  ... -0.024887  0.039557  0.045903 -0.038753   \n",
       "\n",
       "        763       764       765       766       767      category  \n",
       "0  0.059316 -0.015556  0.001022 -0.035402 -0.019583  card_arrival  \n",
       "1  0.030264 -0.003601  0.014045 -0.013700 -0.023940  card_arrival  \n",
       "2  0.038658 -0.027191 -0.022017 -0.036791 -0.030673  card_arrival  \n",
       "3  0.041919 -0.050325  0.024547 -0.039276 -0.041093  card_arrival  \n",
       "4  0.054652  0.024629 -0.015520  0.061558 -0.020172  card_arrival  \n",
       "\n",
       "[5 rows x 769 columns]"
      ]
     },
     "execution_count": 9,
     "metadata": {},
     "output_type": "execute_result"
    }
   ],
   "source": [
    "df.head()"
   ]
  },
  {
   "cell_type": "code",
   "execution_count": 4,
   "metadata": {},
   "outputs": [
    {
     "data": {
      "text/html": [
       "<div>\n",
       "<style scoped>\n",
       "    .dataframe tbody tr th:only-of-type {\n",
       "        vertical-align: middle;\n",
       "    }\n",
       "\n",
       "    .dataframe tbody tr th {\n",
       "        vertical-align: top;\n",
       "    }\n",
       "\n",
       "    .dataframe thead th {\n",
       "        text-align: right;\n",
       "    }\n",
       "</style>\n",
       "<table border=\"1\" class=\"dataframe\">\n",
       "  <thead>\n",
       "    <tr style=\"text-align: right;\">\n",
       "      <th></th>\n",
       "      <th>text</th>\n",
       "      <th>category</th>\n",
       "    </tr>\n",
       "  </thead>\n",
       "  <tbody>\n",
       "    <tr>\n",
       "      <th>0</th>\n",
       "      <td>I am still waiting on my card?</td>\n",
       "      <td>card_arrival</td>\n",
       "    </tr>\n",
       "    <tr>\n",
       "      <th>1</th>\n",
       "      <td>What can I do if my card still hasn't arrived ...</td>\n",
       "      <td>card_arrival</td>\n",
       "    </tr>\n",
       "    <tr>\n",
       "      <th>2</th>\n",
       "      <td>I have been waiting over a week. Is the card s...</td>\n",
       "      <td>card_arrival</td>\n",
       "    </tr>\n",
       "    <tr>\n",
       "      <th>3</th>\n",
       "      <td>Can I track my card while it is in the process...</td>\n",
       "      <td>card_arrival</td>\n",
       "    </tr>\n",
       "    <tr>\n",
       "      <th>4</th>\n",
       "      <td>How do I know if I will get my card, or if it ...</td>\n",
       "      <td>card_arrival</td>\n",
       "    </tr>\n",
       "  </tbody>\n",
       "</table>\n",
       "</div>"
      ],
      "text/plain": [
       "                                                text      category\n",
       "0                     I am still waiting on my card?  card_arrival\n",
       "1  What can I do if my card still hasn't arrived ...  card_arrival\n",
       "2  I have been waiting over a week. Is the card s...  card_arrival\n",
       "3  Can I track my card while it is in the process...  card_arrival\n",
       "4  How do I know if I will get my card, or if it ...  card_arrival"
      ]
     },
     "execution_count": 4,
     "metadata": {},
     "output_type": "execute_result"
    }
   ],
   "source": [
    "df_orig.head()"
   ]
  },
  {
   "cell_type": "code",
   "execution_count": 6,
   "metadata": {},
   "outputs": [],
   "source": [
    "list_labels = df_orig['category'].unique()"
   ]
  },
  {
   "cell_type": "code",
   "execution_count": 8,
   "metadata": {},
   "outputs": [
    {
     "data": {
      "text/plain": [
       "'card_arrival'"
      ]
     },
     "execution_count": 8,
     "metadata": {},
     "output_type": "execute_result"
    }
   ],
   "source": [
    "list_labels[0]"
   ]
  },
  {
   "cell_type": "code",
   "execution_count": 11,
   "metadata": {},
   "outputs": [],
   "source": [
    "list_cleanLabels = [sub.replace('_',' ') for sub in list_labels]"
   ]
  },
  {
   "cell_type": "code",
   "execution_count": 15,
   "metadata": {},
   "outputs": [
    {
     "data": {
      "text/plain": [
       "['card arrival',\n",
       " 'card linking',\n",
       " 'exchange rate',\n",
       " 'card payment wrong exchange rate',\n",
       " 'extra charge on statement']"
      ]
     },
     "execution_count": 15,
     "metadata": {},
     "output_type": "execute_result"
    }
   ],
   "source": [
    "list_cleanLabels[0:5]"
   ]
  },
  {
   "cell_type": "code",
   "execution_count": 20,
   "metadata": {},
   "outputs": [],
   "source": [
    "vectorizer = CountVectorizer().fit_transform(list_cleanLabels)"
   ]
  },
  {
   "cell_type": "code",
   "execution_count": 31,
   "metadata": {},
   "outputs": [
    {
     "data": {
      "text/plain": [
       "array([0, 0, 0, 0, 0, 0, 0, 0, 0, 0, 0, 1, 0, 0, 0, 0, 0, 0, 0, 0, 1, 0,\n",
       "       0, 0, 0, 0, 0, 0, 0, 0, 0, 0, 0, 0, 0, 0, 0, 0, 0, 0, 0, 0, 0, 0,\n",
       "       0, 0, 0, 0, 0, 0, 0, 0, 0, 0, 0, 0, 0, 0, 0, 0, 0, 0, 0, 0, 0, 0,\n",
       "       0, 0, 0, 0, 0, 0, 0, 0, 0, 0, 0, 0, 0, 0, 0, 0, 0, 0, 0, 0, 0, 0,\n",
       "       0, 0, 0, 0, 0, 0, 0, 0, 0, 0, 0, 0, 0, 0, 0, 0, 0, 0, 0, 0, 0, 0],\n",
       "      dtype=int64)"
      ]
     },
     "execution_count": 31,
     "metadata": {},
     "output_type": "execute_result"
    }
   ],
   "source": [
    "vectors = vectorizer.toarray()\n",
    "vectors[0]"
   ]
  },
  {
   "cell_type": "code",
   "execution_count": 22,
   "metadata": {},
   "outputs": [
    {
     "data": {
      "text/plain": [
       "array([[1. , 0.5, 0. , ..., 0. , 0. , 0. ],\n",
       "       [0.5, 1. , 0. , ..., 0. , 0. , 0. ],\n",
       "       [0. , 0. , 1. , ..., 0. , 0. , 0. ],\n",
       "       ...,\n",
       "       [0. , 0. , 0. , ..., 1. , 0. , 0. ],\n",
       "       [0. , 0. , 0. , ..., 0. , 1. , 0. ],\n",
       "       [0. , 0. , 0. , ..., 0. , 0. , 1. ]])"
      ]
     },
     "execution_count": 22,
     "metadata": {},
     "output_type": "execute_result"
    }
   ],
   "source": [
    "csim = cosine_similarity(vectors)\n",
    "csim"
   ]
  },
  {
   "cell_type": "code",
   "execution_count": 23,
   "metadata": {},
   "outputs": [],
   "source": [
    "def cosine_sim_vectors(vec1,vec2):\n",
    "    vec1 = vec1.reshape(1,-1)\n",
    "    vec2 = vec2.reshape(1,-1)\n",
    "    \n",
    "    return cosine_similarity(vec1,vec2)[0][0]"
   ]
  },
  {
   "cell_type": "code",
   "execution_count": 27,
   "metadata": {},
   "outputs": [
    {
     "data": {
      "text/plain": [
       "0.3162277660168379"
      ]
     },
     "execution_count": 27,
     "metadata": {},
     "output_type": "execute_result"
    }
   ],
   "source": [
    "cosine_sim_vectors(vectors[0],vectors[3])"
   ]
  },
  {
   "cell_type": "code",
   "execution_count": 29,
   "metadata": {},
   "outputs": [],
   "source": [
    "A =  vectors\n",
    "A_sparse = sparse.csr_matrix(A)\n",
    "\n",
    "sim  = cosine_similarity(A_sparse)\n",
    "dist = euclidean_distances(A_sparse)"
   ]
  },
  {
   "cell_type": "code",
   "execution_count": 32,
   "metadata": {},
   "outputs": [
    {
     "data": {
      "text/plain": [
       "<77x110 sparse matrix of type '<class 'numpy.longlong'>'\n",
       "\twith 252 stored elements in Compressed Sparse Row format>"
      ]
     },
     "execution_count": 32,
     "metadata": {},
     "output_type": "execute_result"
    }
   ],
   "source": [
    "A_sparse"
   ]
  },
  {
   "cell_type": "code",
   "execution_count": 30,
   "metadata": {},
   "outputs": [
    {
     "name": "stdout",
     "output_type": "stream",
     "text": [
      "0.3162277660168379\n"
     ]
    }
   ],
   "source": [
    "print(sim[0,3])"
   ]
  },
  {
   "cell_type": "code",
   "execution_count": 85,
   "metadata": {},
   "outputs": [],
   "source": [
    "res=pd.DataFrame(columns=list_cleanLabels, index=list_cleanLabels)\n",
    "for i in range(len(list_cleanLabels)):\n",
    "    for j in range(len(list_cleanLabels)):\n",
    "        res.iloc[i,j]= round(sim[i,j],4)"
   ]
  },
  {
   "cell_type": "code",
   "execution_count": 86,
   "metadata": {},
   "outputs": [],
   "source": [
    "res = res.fillna(0)"
   ]
  },
  {
   "cell_type": "code",
   "execution_count": 87,
   "metadata": {},
   "outputs": [],
   "source": [
    "res.to_csv('label_sim_res.csv', index=False)"
   ]
  },
  {
   "cell_type": "code",
   "execution_count": 92,
   "metadata": {},
   "outputs": [
    {
     "data": {
      "text/html": [
       "<div>\n",
       "<style scoped>\n",
       "    .dataframe tbody tr th:only-of-type {\n",
       "        vertical-align: middle;\n",
       "    }\n",
       "\n",
       "    .dataframe tbody tr th {\n",
       "        vertical-align: top;\n",
       "    }\n",
       "\n",
       "    .dataframe thead th {\n",
       "        text-align: right;\n",
       "    }\n",
       "</style>\n",
       "<table border=\"1\" class=\"dataframe\">\n",
       "  <thead>\n",
       "    <tr style=\"text-align: right;\">\n",
       "      <th></th>\n",
       "      <th>card arrival</th>\n",
       "      <th>card linking</th>\n",
       "      <th>exchange rate</th>\n",
       "      <th>card payment wrong exchange rate</th>\n",
       "      <th>extra charge on statement</th>\n",
       "      <th>pending cash withdrawal</th>\n",
       "      <th>fiat currency support</th>\n",
       "      <th>card delivery estimate</th>\n",
       "      <th>automatic top up</th>\n",
       "      <th>card not working</th>\n",
       "      <th>...</th>\n",
       "      <th>balance not updated after bank transfer</th>\n",
       "      <th>cash withdrawal not recognised</th>\n",
       "      <th>exchange charge</th>\n",
       "      <th>top up by card charge</th>\n",
       "      <th>activate my card</th>\n",
       "      <th>cash withdrawal charge</th>\n",
       "      <th>card about to expire</th>\n",
       "      <th>apple pay or google pay</th>\n",
       "      <th>verify my identity</th>\n",
       "      <th>country support</th>\n",
       "    </tr>\n",
       "  </thead>\n",
       "  <tbody>\n",
       "    <tr>\n",
       "      <th>card arrival</th>\n",
       "      <td>1.0000</td>\n",
       "      <td>0.5000</td>\n",
       "      <td>0.0000</td>\n",
       "      <td>0.3162</td>\n",
       "      <td>0.0</td>\n",
       "      <td>0.0</td>\n",
       "      <td>0.0</td>\n",
       "      <td>0.4082</td>\n",
       "      <td>0.0</td>\n",
       "      <td>0.4082</td>\n",
       "      <td>...</td>\n",
       "      <td>0.0</td>\n",
       "      <td>0.0</td>\n",
       "      <td>0.0000</td>\n",
       "      <td>0.3162</td>\n",
       "      <td>0.4082</td>\n",
       "      <td>0.0000</td>\n",
       "      <td>0.3536</td>\n",
       "      <td>0.0</td>\n",
       "      <td>0.0</td>\n",
       "      <td>0.0</td>\n",
       "    </tr>\n",
       "    <tr>\n",
       "      <th>card linking</th>\n",
       "      <td>0.5000</td>\n",
       "      <td>1.0000</td>\n",
       "      <td>0.0000</td>\n",
       "      <td>0.3162</td>\n",
       "      <td>0.0</td>\n",
       "      <td>0.0</td>\n",
       "      <td>0.0</td>\n",
       "      <td>0.4082</td>\n",
       "      <td>0.0</td>\n",
       "      <td>0.4082</td>\n",
       "      <td>...</td>\n",
       "      <td>0.0</td>\n",
       "      <td>0.0</td>\n",
       "      <td>0.0000</td>\n",
       "      <td>0.3162</td>\n",
       "      <td>0.4082</td>\n",
       "      <td>0.0000</td>\n",
       "      <td>0.3536</td>\n",
       "      <td>0.0</td>\n",
       "      <td>0.0</td>\n",
       "      <td>0.0</td>\n",
       "    </tr>\n",
       "    <tr>\n",
       "      <th>exchange rate</th>\n",
       "      <td>0.0000</td>\n",
       "      <td>0.0000</td>\n",
       "      <td>1.0000</td>\n",
       "      <td>0.6325</td>\n",
       "      <td>0.0</td>\n",
       "      <td>0.0</td>\n",
       "      <td>0.0</td>\n",
       "      <td>0.0000</td>\n",
       "      <td>0.0</td>\n",
       "      <td>0.0000</td>\n",
       "      <td>...</td>\n",
       "      <td>0.0</td>\n",
       "      <td>0.0</td>\n",
       "      <td>0.5000</td>\n",
       "      <td>0.0000</td>\n",
       "      <td>0.0000</td>\n",
       "      <td>0.0000</td>\n",
       "      <td>0.0000</td>\n",
       "      <td>0.0</td>\n",
       "      <td>0.0</td>\n",
       "      <td>0.0</td>\n",
       "    </tr>\n",
       "    <tr>\n",
       "      <th>card payment wrong exchange rate</th>\n",
       "      <td>0.3162</td>\n",
       "      <td>0.3162</td>\n",
       "      <td>0.6325</td>\n",
       "      <td>1.0000</td>\n",
       "      <td>0.0</td>\n",
       "      <td>0.0</td>\n",
       "      <td>0.0</td>\n",
       "      <td>0.2582</td>\n",
       "      <td>0.0</td>\n",
       "      <td>0.2582</td>\n",
       "      <td>...</td>\n",
       "      <td>0.0</td>\n",
       "      <td>0.0</td>\n",
       "      <td>0.3162</td>\n",
       "      <td>0.2000</td>\n",
       "      <td>0.2582</td>\n",
       "      <td>0.0000</td>\n",
       "      <td>0.2236</td>\n",
       "      <td>0.0</td>\n",
       "      <td>0.0</td>\n",
       "      <td>0.0</td>\n",
       "    </tr>\n",
       "    <tr>\n",
       "      <th>extra charge on statement</th>\n",
       "      <td>0.0000</td>\n",
       "      <td>0.0000</td>\n",
       "      <td>0.0000</td>\n",
       "      <td>0.0000</td>\n",
       "      <td>1.0</td>\n",
       "      <td>0.0</td>\n",
       "      <td>0.0</td>\n",
       "      <td>0.0000</td>\n",
       "      <td>0.0</td>\n",
       "      <td>0.0000</td>\n",
       "      <td>...</td>\n",
       "      <td>0.0</td>\n",
       "      <td>0.0</td>\n",
       "      <td>0.3536</td>\n",
       "      <td>0.2236</td>\n",
       "      <td>0.0000</td>\n",
       "      <td>0.2887</td>\n",
       "      <td>0.0000</td>\n",
       "      <td>0.0</td>\n",
       "      <td>0.0</td>\n",
       "      <td>0.0</td>\n",
       "    </tr>\n",
       "  </tbody>\n",
       "</table>\n",
       "<p>5 rows × 77 columns</p>\n",
       "</div>"
      ],
      "text/plain": [
       "                                  card arrival  card linking  exchange rate  \\\n",
       "card arrival                            1.0000        0.5000         0.0000   \n",
       "card linking                            0.5000        1.0000         0.0000   \n",
       "exchange rate                           0.0000        0.0000         1.0000   \n",
       "card payment wrong exchange rate        0.3162        0.3162         0.6325   \n",
       "extra charge on statement               0.0000        0.0000         0.0000   \n",
       "\n",
       "                                  card payment wrong exchange rate  \\\n",
       "card arrival                                                0.3162   \n",
       "card linking                                                0.3162   \n",
       "exchange rate                                               0.6325   \n",
       "card payment wrong exchange rate                            1.0000   \n",
       "extra charge on statement                                   0.0000   \n",
       "\n",
       "                                  extra charge on statement  \\\n",
       "card arrival                                            0.0   \n",
       "card linking                                            0.0   \n",
       "exchange rate                                           0.0   \n",
       "card payment wrong exchange rate                        0.0   \n",
       "extra charge on statement                               1.0   \n",
       "\n",
       "                                  pending cash withdrawal  \\\n",
       "card arrival                                          0.0   \n",
       "card linking                                          0.0   \n",
       "exchange rate                                         0.0   \n",
       "card payment wrong exchange rate                      0.0   \n",
       "extra charge on statement                             0.0   \n",
       "\n",
       "                                  fiat currency support  \\\n",
       "card arrival                                        0.0   \n",
       "card linking                                        0.0   \n",
       "exchange rate                                       0.0   \n",
       "card payment wrong exchange rate                    0.0   \n",
       "extra charge on statement                           0.0   \n",
       "\n",
       "                                  card delivery estimate  automatic top up  \\\n",
       "card arrival                                      0.4082               0.0   \n",
       "card linking                                      0.4082               0.0   \n",
       "exchange rate                                     0.0000               0.0   \n",
       "card payment wrong exchange rate                  0.2582               0.0   \n",
       "extra charge on statement                         0.0000               0.0   \n",
       "\n",
       "                                  card not working  ...  \\\n",
       "card arrival                                0.4082  ...   \n",
       "card linking                                0.4082  ...   \n",
       "exchange rate                               0.0000  ...   \n",
       "card payment wrong exchange rate            0.2582  ...   \n",
       "extra charge on statement                   0.0000  ...   \n",
       "\n",
       "                                  balance not updated after bank transfer  \\\n",
       "card arrival                                                          0.0   \n",
       "card linking                                                          0.0   \n",
       "exchange rate                                                         0.0   \n",
       "card payment wrong exchange rate                                      0.0   \n",
       "extra charge on statement                                             0.0   \n",
       "\n",
       "                                  cash withdrawal not recognised  \\\n",
       "card arrival                                                 0.0   \n",
       "card linking                                                 0.0   \n",
       "exchange rate                                                0.0   \n",
       "card payment wrong exchange rate                             0.0   \n",
       "extra charge on statement                                    0.0   \n",
       "\n",
       "                                  exchange charge  top up by card charge  \\\n",
       "card arrival                               0.0000                 0.3162   \n",
       "card linking                               0.0000                 0.3162   \n",
       "exchange rate                              0.5000                 0.0000   \n",
       "card payment wrong exchange rate           0.3162                 0.2000   \n",
       "extra charge on statement                  0.3536                 0.2236   \n",
       "\n",
       "                                  activate my card  cash withdrawal charge  \\\n",
       "card arrival                                0.4082                  0.0000   \n",
       "card linking                                0.4082                  0.0000   \n",
       "exchange rate                               0.0000                  0.0000   \n",
       "card payment wrong exchange rate            0.2582                  0.0000   \n",
       "extra charge on statement                   0.0000                  0.2887   \n",
       "\n",
       "                                  card about to expire  \\\n",
       "card arrival                                    0.3536   \n",
       "card linking                                    0.3536   \n",
       "exchange rate                                   0.0000   \n",
       "card payment wrong exchange rate                0.2236   \n",
       "extra charge on statement                       0.0000   \n",
       "\n",
       "                                  apple pay or google pay  verify my identity  \\\n",
       "card arrival                                          0.0                 0.0   \n",
       "card linking                                          0.0                 0.0   \n",
       "exchange rate                                         0.0                 0.0   \n",
       "card payment wrong exchange rate                      0.0                 0.0   \n",
       "extra charge on statement                             0.0                 0.0   \n",
       "\n",
       "                                  country support  \n",
       "card arrival                                  0.0  \n",
       "card linking                                  0.0  \n",
       "exchange rate                                 0.0  \n",
       "card payment wrong exchange rate              0.0  \n",
       "extra charge on statement                     0.0  \n",
       "\n",
       "[5 rows x 77 columns]"
      ]
     },
     "execution_count": 92,
     "metadata": {},
     "output_type": "execute_result"
    }
   ],
   "source": [
    "res.head()"
   ]
  },
  {
   "cell_type": "code",
   "execution_count": null,
   "metadata": {},
   "outputs": [],
   "source": []
  },
  {
   "cell_type": "code",
   "execution_count": null,
   "metadata": {},
   "outputs": [],
   "source": []
  },
  {
   "cell_type": "code",
   "execution_count": null,
   "metadata": {},
   "outputs": [],
   "source": []
  },
  {
   "cell_type": "code",
   "execution_count": null,
   "metadata": {},
   "outputs": [],
   "source": []
  },
  {
   "cell_type": "code",
   "execution_count": null,
   "metadata": {},
   "outputs": [],
   "source": []
  },
  {
   "cell_type": "code",
   "execution_count": null,
   "metadata": {},
   "outputs": [],
   "source": []
  },
  {
   "cell_type": "code",
   "execution_count": 88,
   "metadata": {},
   "outputs": [
    {
     "data": {
      "image/png": "[encoded data removed]",
      "text/plain": [
       "<Figure size 432x288 with 2 Axes>"
      ]
     },
     "metadata": {
      "needs_background": "light"
     },
     "output_type": "display_data"
    }
   ],
   "source": [
    "ax=sns.heatmap(res)"
   ]
  },
  {
   "cell_type": "code",
   "execution_count": null,
   "metadata": {},
   "outputs": [],
   "source": []
  },
  {
   "cell_type": "code",
   "execution_count": null,
   "metadata": {},
   "outputs": [],
   "source": []
  },
  {
   "cell_type": "code",
   "execution_count": null,
   "metadata": {},
   "outputs": [],
   "source": []
  }
 ],
 "metadata": {
  "kernelspec": {
   "display_name": "Python 3 (ipykernel)",
   "language": "python",
   "name": "python3"
  },
  "language_info": {
   "codemirror_mode": {
    "name": "ipython",
    "version": 3
   },
   "file_extension": ".py",
   "mimetype": "text/x-python",
   "name": "python",
   "nbconvert_exporter": "python",
   "pygments_lexer": "ipython3",
   "version": "3.6.8"
  }
 },
 "nbformat": 4,
 "nbformat_minor": 2
}
