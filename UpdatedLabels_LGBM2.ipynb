{
 "cells": [
  {
   "cell_type": "code",
   "execution_count": 86,
   "metadata": {},
   "outputs": [],
   "source": [
    "import pandas as pd\n",
    "import seaborn as sns\n",
    "import numpy as np\n",
    "from matplotlib import pyplot as plt\n",
    "from lightgbm import LGBMClassifier\n",
    "from sklearn.model_selection import train_test_split, StratifiedKFold\n",
    "from sklearn.preprocessing import LabelEncoder\n"
   ]
  },
  {
   "cell_type": "code",
   "execution_count": 87,
   "metadata": {},
   "outputs": [],
   "source": [
    "from sklearn.metrics import accuracy_score,zero_one_loss,balanced_accuracy_score, brier_score_loss,precision_score, recall_score, f1_score, mean_squared_error, classification_report"
   ]
  },
  {
   "cell_type": "code",
   "execution_count": 88,
   "metadata": {},
   "outputs": [],
   "source": [
    "# some setting for this notebook to actually show the graphs inline\n",
    "%matplotlib inline\n",
    "np.set_printoptions(precision=5, suppress=True)  # suppress scientific float notation\n",
    "\n",
    "from IPython.core.interactiveshell import InteractiveShell\n",
    "InteractiveShell.ast_node_interactivity = \"all\""
   ]
  },
  {
   "cell_type": "code",
   "execution_count": null,
   "metadata": {},
   "outputs": [],
   "source": [
    "#model = 'clean_embed_all-mpnet-base-v2.csv'\n",
    "#df = pd.read_csv('/global/project/hpcg1614_shared/ca/data/banking77/{}'.format(model))"
   ]
  },
  {
   "cell_type": "code",
   "execution_count": 89,
   "metadata": {},
   "outputs": [],
   "source": [
    "# Embeddings from SBERT \"all-mpnet-base-v2\" + UMAP dim. reduced\n",
    "X_dims = pd.read_csv(\"X_dims_e01.06.csv\")"
   ]
  },
  {
   "cell_type": "markdown",
   "metadata": {},
   "source": [
    "# Experiment 1: Baseline with Original df"
   ]
  },
  {
   "cell_type": "code",
   "execution_count": 90,
   "metadata": {},
   "outputs": [],
   "source": [
    "df_orig = pd.read_csv('clean.csv')"
   ]
  },
  {
   "cell_type": "code",
   "execution_count": 91,
   "metadata": {},
   "outputs": [],
   "source": [
    "target_names=df_orig['category'].unique()"
   ]
  },
  {
   "cell_type": "code",
   "execution_count": 92,
   "metadata": {},
   "outputs": [],
   "source": [
    "X_dims['id']=X_dims.index\n",
    "df_orig['id']=df_orig.index"
   ]
  },
  {
   "cell_type": "code",
   "execution_count": 93,
   "metadata": {},
   "outputs": [
    {
     "data": {
      "text/plain": [
       "(10003, 15)"
      ]
     },
     "execution_count": 93,
     "metadata": {},
     "output_type": "execute_result"
    },
    {
     "data": {
      "text/html": [
       "<div>\n",
       "<style scoped>\n",
       "    .dataframe tbody tr th:only-of-type {\n",
       "        vertical-align: middle;\n",
       "    }\n",
       "\n",
       "    .dataframe tbody tr th {\n",
       "        vertical-align: top;\n",
       "    }\n",
       "\n",
       "    .dataframe thead th {\n",
       "        text-align: right;\n",
       "    }\n",
       "</style>\n",
       "<table border=\"1\" class=\"dataframe\">\n",
       "  <thead>\n",
       "    <tr style=\"text-align: right;\">\n",
       "      <th></th>\n",
       "      <th>text</th>\n",
       "      <th>category</th>\n",
       "      <th>id</th>\n",
       "      <th>0</th>\n",
       "      <th>1</th>\n",
       "      <th>2</th>\n",
       "      <th>3</th>\n",
       "      <th>4</th>\n",
       "      <th>5</th>\n",
       "      <th>6</th>\n",
       "      <th>7</th>\n",
       "      <th>8</th>\n",
       "      <th>9</th>\n",
       "      <th>10</th>\n",
       "      <th>11</th>\n",
       "    </tr>\n",
       "  </thead>\n",
       "  <tbody>\n",
       "    <tr>\n",
       "      <th>0</th>\n",
       "      <td>I am still waiting on my card?</td>\n",
       "      <td>card_arrival</td>\n",
       "      <td>0</td>\n",
       "      <td>8.263814</td>\n",
       "      <td>1.805695</td>\n",
       "      <td>5.121025</td>\n",
       "      <td>3.746852</td>\n",
       "      <td>4.953388</td>\n",
       "      <td>2.288532</td>\n",
       "      <td>4.528465</td>\n",
       "      <td>2.029929</td>\n",
       "      <td>4.144418</td>\n",
       "      <td>2.861202</td>\n",
       "      <td>9.808524</td>\n",
       "      <td>2.961788</td>\n",
       "    </tr>\n",
       "    <tr>\n",
       "      <th>1</th>\n",
       "      <td>What can I do if my card still hasn't arrived ...</td>\n",
       "      <td>card_arrival</td>\n",
       "      <td>1</td>\n",
       "      <td>8.083271</td>\n",
       "      <td>1.797391</td>\n",
       "      <td>5.236867</td>\n",
       "      <td>3.670772</td>\n",
       "      <td>5.069145</td>\n",
       "      <td>2.417079</td>\n",
       "      <td>4.629939</td>\n",
       "      <td>2.042497</td>\n",
       "      <td>4.054216</td>\n",
       "      <td>2.766853</td>\n",
       "      <td>10.033391</td>\n",
       "      <td>2.847773</td>\n",
       "    </tr>\n",
       "    <tr>\n",
       "      <th>2</th>\n",
       "      <td>I have been waiting over a week. Is the card s...</td>\n",
       "      <td>card_arrival</td>\n",
       "      <td>2</td>\n",
       "      <td>8.091454</td>\n",
       "      <td>1.733188</td>\n",
       "      <td>4.890882</td>\n",
       "      <td>3.658099</td>\n",
       "      <td>5.059527</td>\n",
       "      <td>2.327522</td>\n",
       "      <td>4.621762</td>\n",
       "      <td>2.016839</td>\n",
       "      <td>4.227369</td>\n",
       "      <td>2.529474</td>\n",
       "      <td>9.923305</td>\n",
       "      <td>2.732634</td>\n",
       "    </tr>\n",
       "  </tbody>\n",
       "</table>\n",
       "</div>"
      ],
      "text/plain": [
       "                                                text      category  id  \\\n",
       "0                     I am still waiting on my card?  card_arrival   0   \n",
       "1  What can I do if my card still hasn't arrived ...  card_arrival   1   \n",
       "2  I have been waiting over a week. Is the card s...  card_arrival   2   \n",
       "\n",
       "          0         1         2         3         4         5         6  \\\n",
       "0  8.263814  1.805695  5.121025  3.746852  4.953388  2.288532  4.528465   \n",
       "1  8.083271  1.797391  5.236867  3.670772  5.069145  2.417079  4.629939   \n",
       "2  8.091454  1.733188  4.890882  3.658099  5.059527  2.327522  4.621762   \n",
       "\n",
       "          7         8         9         10        11  \n",
       "0  2.029929  4.144418  2.861202   9.808524  2.961788  \n",
       "1  2.042497  4.054216  2.766853  10.033391  2.847773  \n",
       "2  2.016839  4.227369  2.529474   9.923305  2.732634  "
      ]
     },
     "execution_count": 93,
     "metadata": {},
     "output_type": "execute_result"
    }
   ],
   "source": [
    "X_dims = df_orig.merge(X_dims, on='id', how='left')\n",
    "X_dims.shape\n",
    "X_dims.head(3)"
   ]
  },
  {
   "cell_type": "code",
   "execution_count": 94,
   "metadata": {},
   "outputs": [],
   "source": [
    "df_orig = df_orig.drop(['id'], axis=1).to_numpy()"
   ]
  },
  {
   "cell_type": "code",
   "execution_count": 95,
   "metadata": {},
   "outputs": [],
   "source": [
    "X = X_dims.drop(['id','text','category'], axis=1).to_numpy()\n",
    "y_cat = X_dims['category'].to_numpy()\n",
    "label_transformer = LabelEncoder()\n",
    "y = label_transformer.fit_transform(y_cat)"
   ]
  },
  {
   "cell_type": "code",
   "execution_count": 96,
   "metadata": {},
   "outputs": [
    {
     "name": "stdout",
     "output_type": "stream",
     "text": [
      "split\n"
     ]
    },
    {
     "data": {
      "text/plain": [
       "LGBMClassifier(boosting_type='gbdt', class_weight=None, colsample_bytree=1.0,\n",
       "               importance_type='split', learning_rate=0.1, max_depth=4,\n",
       "               min_child_samples=20, min_child_weight=0.001, min_split_gain=0.0,\n",
       "               n_estimators=1000, n_jobs=5, num_leaves=15, objective=None,\n",
       "               random_state=None, reg_alpha=0.0, reg_lambda=0.0, seed=77,\n",
       "               silent=True, subsample=1.0, subsample_for_bin=200000,\n",
       "               subsample_freq=0, verbosity=-1)"
      ]
     },
     "execution_count": 96,
     "metadata": {},
     "output_type": "execute_result"
    },
    {
     "name": "stdout",
     "output_type": "stream",
     "text": [
      "split\n"
     ]
    },
    {
     "data": {
      "text/plain": [
       "LGBMClassifier(boosting_type='gbdt', class_weight=None, colsample_bytree=1.0,\n",
       "               importance_type='split', learning_rate=0.1, max_depth=4,\n",
       "               min_child_samples=20, min_child_weight=0.001, min_split_gain=0.0,\n",
       "               n_estimators=1000, n_jobs=5, num_leaves=15, objective=None,\n",
       "               random_state=None, reg_alpha=0.0, reg_lambda=0.0, seed=77,\n",
       "               silent=True, subsample=1.0, subsample_for_bin=200000,\n",
       "               subsample_freq=0, verbosity=-1)"
      ]
     },
     "execution_count": 96,
     "metadata": {},
     "output_type": "execute_result"
    },
    {
     "name": "stdout",
     "output_type": "stream",
     "text": [
      "split\n"
     ]
    },
    {
     "data": {
      "text/plain": [
       "LGBMClassifier(boosting_type='gbdt', class_weight=None, colsample_bytree=1.0,\n",
       "               importance_type='split', learning_rate=0.1, max_depth=4,\n",
       "               min_child_samples=20, min_child_weight=0.001, min_split_gain=0.0,\n",
       "               n_estimators=1000, n_jobs=5, num_leaves=15, objective=None,\n",
       "               random_state=None, reg_alpha=0.0, reg_lambda=0.0, seed=77,\n",
       "               silent=True, subsample=1.0, subsample_for_bin=200000,\n",
       "               subsample_freq=0, verbosity=-1)"
      ]
     },
     "execution_count": 96,
     "metadata": {},
     "output_type": "execute_result"
    },
    {
     "name": "stdout",
     "output_type": "stream",
     "text": [
      "split\n"
     ]
    },
    {
     "data": {
      "text/plain": [
       "LGBMClassifier(boosting_type='gbdt', class_weight=None, colsample_bytree=1.0,\n",
       "               importance_type='split', learning_rate=0.1, max_depth=4,\n",
       "               min_child_samples=20, min_child_weight=0.001, min_split_gain=0.0,\n",
       "               n_estimators=1000, n_jobs=5, num_leaves=15, objective=None,\n",
       "               random_state=None, reg_alpha=0.0, reg_lambda=0.0, seed=77,\n",
       "               silent=True, subsample=1.0, subsample_for_bin=200000,\n",
       "               subsample_freq=0, verbosity=-1)"
      ]
     },
     "execution_count": 96,
     "metadata": {},
     "output_type": "execute_result"
    },
    {
     "name": "stdout",
     "output_type": "stream",
     "text": [
      "split\n"
     ]
    },
    {
     "data": {
      "text/plain": [
       "LGBMClassifier(boosting_type='gbdt', class_weight=None, colsample_bytree=1.0,\n",
       "               importance_type='split', learning_rate=0.1, max_depth=4,\n",
       "               min_child_samples=20, min_child_weight=0.001, min_split_gain=0.0,\n",
       "               n_estimators=1000, n_jobs=5, num_leaves=15, objective=None,\n",
       "               random_state=None, reg_alpha=0.0, reg_lambda=0.0, seed=77,\n",
       "               silent=True, subsample=1.0, subsample_for_bin=200000,\n",
       "               subsample_freq=0, verbosity=-1)"
      ]
     },
     "execution_count": 96,
     "metadata": {},
     "output_type": "execute_result"
    },
    {
     "name": "stdout",
     "output_type": "stream",
     "text": [
      "split\n"
     ]
    },
    {
     "data": {
      "text/plain": [
       "LGBMClassifier(boosting_type='gbdt', class_weight=None, colsample_bytree=1.0,\n",
       "               importance_type='split', learning_rate=0.1, max_depth=4,\n",
       "               min_child_samples=20, min_child_weight=0.001, min_split_gain=0.0,\n",
       "               n_estimators=1000, n_jobs=5, num_leaves=15, objective=None,\n",
       "               random_state=None, reg_alpha=0.0, reg_lambda=0.0, seed=77,\n",
       "               silent=True, subsample=1.0, subsample_for_bin=200000,\n",
       "               subsample_freq=0, verbosity=-1)"
      ]
     },
     "execution_count": 96,
     "metadata": {},
     "output_type": "execute_result"
    },
    {
     "name": "stdout",
     "output_type": "stream",
     "text": [
      "split\n"
     ]
    },
    {
     "data": {
      "text/plain": [
       "LGBMClassifier(boosting_type='gbdt', class_weight=None, colsample_bytree=1.0,\n",
       "               importance_type='split', learning_rate=0.1, max_depth=4,\n",
       "               min_child_samples=20, min_child_weight=0.001, min_split_gain=0.0,\n",
       "               n_estimators=1000, n_jobs=5, num_leaves=15, objective=None,\n",
       "               random_state=None, reg_alpha=0.0, reg_lambda=0.0, seed=77,\n",
       "               silent=True, subsample=1.0, subsample_for_bin=200000,\n",
       "               subsample_freq=0, verbosity=-1)"
      ]
     },
     "execution_count": 96,
     "metadata": {},
     "output_type": "execute_result"
    },
    {
     "name": "stdout",
     "output_type": "stream",
     "text": [
      "split\n"
     ]
    },
    {
     "data": {
      "text/plain": [
       "LGBMClassifier(boosting_type='gbdt', class_weight=None, colsample_bytree=1.0,\n",
       "               importance_type='split', learning_rate=0.1, max_depth=4,\n",
       "               min_child_samples=20, min_child_weight=0.001, min_split_gain=0.0,\n",
       "               n_estimators=1000, n_jobs=5, num_leaves=15, objective=None,\n",
       "               random_state=None, reg_alpha=0.0, reg_lambda=0.0, seed=77,\n",
       "               silent=True, subsample=1.0, subsample_for_bin=200000,\n",
       "               subsample_freq=0, verbosity=-1)"
      ]
     },
     "execution_count": 96,
     "metadata": {},
     "output_type": "execute_result"
    },
    {
     "name": "stdout",
     "output_type": "stream",
     "text": [
      "split\n"
     ]
    },
    {
     "data": {
      "text/plain": [
       "LGBMClassifier(boosting_type='gbdt', class_weight=None, colsample_bytree=1.0,\n",
       "               importance_type='split', learning_rate=0.1, max_depth=4,\n",
       "               min_child_samples=20, min_child_weight=0.001, min_split_gain=0.0,\n",
       "               n_estimators=1000, n_jobs=5, num_leaves=15, objective=None,\n",
       "               random_state=None, reg_alpha=0.0, reg_lambda=0.0, seed=77,\n",
       "               silent=True, subsample=1.0, subsample_for_bin=200000,\n",
       "               subsample_freq=0, verbosity=-1)"
      ]
     },
     "execution_count": 96,
     "metadata": {},
     "output_type": "execute_result"
    },
    {
     "name": "stdout",
     "output_type": "stream",
     "text": [
      "split\n"
     ]
    },
    {
     "data": {
      "text/plain": [
       "LGBMClassifier(boosting_type='gbdt', class_weight=None, colsample_bytree=1.0,\n",
       "               importance_type='split', learning_rate=0.1, max_depth=4,\n",
       "               min_child_samples=20, min_child_weight=0.001, min_split_gain=0.0,\n",
       "               n_estimators=1000, n_jobs=5, num_leaves=15, objective=None,\n",
       "               random_state=None, reg_alpha=0.0, reg_lambda=0.0, seed=77,\n",
       "               silent=True, subsample=1.0, subsample_for_bin=200000,\n",
       "               subsample_freq=0, verbosity=-1)"
      ]
     },
     "execution_count": 96,
     "metadata": {},
     "output_type": "execute_result"
    }
   ],
   "source": [
    "kfold = StratifiedKFold(n_splits=10, shuffle=True)\n",
    "\n",
    "res = []\n",
    "\n",
    "split = 0\n",
    "for train_ix, val_ix in kfold.split(X, y):\n",
    "    split = split + 1\n",
    "    print(\"split\")\n",
    "    X_train, X_val = X[train_ix], X[val_ix]  \n",
    "    y_train, y_val = y[train_ix], y[val_ix] \n",
    "    X_orig_val = df_orig[val_ix]\n",
    "\n",
    "    params = {\n",
    "              \"learning_rate\": 0.1,\n",
    "              \"max_depth\": 4,\n",
    "              \"num_leaves\": 15,\n",
    "              \"n_estimators\": 1000,\n",
    "              \"n_jobs\": 5,\n",
    "              \"verbosity\": -1,\n",
    "              \"seed\": 77,\n",
    "        }\n",
    "    estimator = LGBMClassifier(**params)\n",
    "    estimator.fit(X_train, y_train)\n",
    "\n",
    "    y_val_pred =estimator.predict(X_val)\n",
    "    y_val_pred_proba =estimator.predict_proba(X_val)"
   ]
  },
  {
   "cell_type": "code",
   "execution_count": 97,
   "metadata": {},
   "outputs": [
    {
     "name": "stdout",
     "output_type": "stream",
     "text": [
      "\n",
      "Calculating metrics on ORIGINAL\n",
      "Accuracy          = 0.908\n",
      "Zero-one Loss     = 0.092\n",
      "Balanced Accuracy = 0.901\n",
      "Precision         = 0.912\n",
      "Recall            = 0.908\n",
      "F1 Score          = 0.907\n"
     ]
    }
   ],
   "source": [
    "print(\"\\nCalculating metrics on ORIGINAL\")\n",
    "\n",
    "print(\"Accuracy          = {:.3f}\".format(accuracy_score(y_val, y_val_pred)))\n",
    "print(\"Zero-one Loss     = {:.3f}\".format(zero_one_loss(y_val, y_val_pred)))\n",
    "print(\"Balanced Accuracy = {:.3f}\".format(balanced_accuracy_score(y_val, y_val_pred)))\n",
    "print(\"Precision         = {:.3f}\".format(precision_score(y_val, y_val_pred, average='weighted')))\n",
    "print(\"Recall            = {:.3f}\".format(recall_score(y_val, y_val_pred, average='weighted')))\n",
    "print(\"F1 Score          = {:.3f}\".format(f1_score(y_val, y_val_pred, average='weighted')))\n"
   ]
  },
  {
   "cell_type": "code",
   "execution_count": 98,
   "metadata": {},
   "outputs": [
    {
     "name": "stdout",
     "output_type": "stream",
     "text": [
      "                                                  precision    recall  f1-score   support\n",
      "\n",
      "                                    card_arrival       0.94      1.00      0.97        16\n",
      "                                    card_linking       1.00      1.00      1.00        16\n",
      "                                   exchange_rate       1.00      1.00      1.00        11\n",
      "                card_payment_wrong_exchange_rate       1.00      1.00      1.00        13\n",
      "                       extra_charge_on_statement       1.00      1.00      1.00         9\n",
      "                         pending_cash_withdrawal       0.93      1.00      0.96        13\n",
      "                           fiat_currency_support       0.75      0.71      0.73        17\n",
      "                          card_delivery_estimate       0.86      1.00      0.92        18\n",
      "                                automatic_top_up       0.93      0.88      0.90        16\n",
      "                                card_not_working       1.00      1.00      1.00        16\n",
      "                                exchange_via_app       1.00      1.00      1.00        13\n",
      "                             lost_or_stolen_card       0.86      1.00      0.92         6\n",
      "                                       age_limit       0.80      0.80      0.80        15\n",
      "                                     pin_blocked       0.71      0.91      0.80        11\n",
      "                         contactless_not_working       1.00      1.00      1.00        14\n",
      "                  top_up_by_bank_transfer_charge       0.82      0.82      0.82        11\n",
      "                                  pending_top_up       0.94      0.94      0.94        18\n",
      "                                 cancel_transfer       0.74      1.00      0.85        17\n",
      "                                   top_up_limits       1.00      0.82      0.90        17\n",
      "                   wrong_amount_of_cash_received       1.00      0.83      0.91         6\n",
      "                        card_payment_fee_charged       0.94      0.94      0.94        18\n",
      "              transfer_not_received_by_recipient       0.94      0.94      0.94        16\n",
      "                  supported_cards_and_currencies       1.00      0.83      0.91        12\n",
      "                            getting_virtual_card       0.83      0.56      0.67         9\n",
      "                                 card_acceptance       0.50      0.33      0.40         3\n",
      "                                 top_up_reverted       1.00      1.00      1.00        13\n",
      "balance_not_updated_after_cheque_or_cash_deposit       0.78      0.93      0.85        15\n",
      "                     card_payment_not_recognised       1.00      1.00      1.00        18\n",
      "                           edit_personal_details       0.92      0.85      0.88        13\n",
      "                             why_verify_identity       0.94      0.89      0.91        18\n",
      "                       unable_to_verify_identity       0.92      1.00      0.96        12\n",
      "                               get_physical_card       1.00      1.00      1.00        12\n",
      "                              visa_or_mastercard       1.00      0.92      0.96        12\n",
      "                              topping_up_by_card       1.00      1.00      1.00        11\n",
      "                          disposable_card_limits       0.92      0.92      0.92        12\n",
      "                                compromised_card       0.93      0.88      0.90        16\n",
      "                                     atm_support       0.92      0.86      0.89        14\n",
      "             direct_debit_payment_not_recognised       0.92      1.00      0.96        12\n",
      "                              passcode_forgotten       0.88      0.78      0.82         9\n",
      "                        declined_cash_withdrawal       0.92      1.00      0.96        11\n",
      "                            pending_card_payment       0.81      1.00      0.90        13\n",
      "                            lost_or_stolen_phone       1.00      0.90      0.95        10\n",
      "                                  request_refund       0.67      0.75      0.71         8\n",
      "                               declined_transfer       1.00      1.00      1.00        12\n",
      "                           Refund_not_showing_up       0.90      0.75      0.82        12\n",
      "                           declined_card_payment       1.00      1.00      1.00        10\n",
      "                                pending_transfer       0.94      0.94      0.94        16\n",
      "                               terminate_account       1.00      0.80      0.89        15\n",
      "                                  card_swallowed       0.82      0.60      0.69        15\n",
      "                       transaction_charged_twice       0.77      0.67      0.71        15\n",
      "                          verify_source_of_funds       0.86      1.00      0.92        12\n",
      "                                 transfer_timing       1.00      1.00      1.00         9\n",
      "                          reverted_card_payment?       1.00      0.88      0.94        17\n",
      "                                      change_pin       1.00      0.88      0.93        16\n",
      "                         beneficiary_not_allowed       0.92      0.92      0.92        13\n",
      "                            transfer_fee_charged       1.00      1.00      1.00        11\n",
      "                                 receiving_money       0.91      0.91      0.91        11\n",
      "                                 failed_transfer       0.92      1.00      0.96        11\n",
      "                           transfer_into_account       1.00      0.91      0.95        11\n",
      "                                   verify_top_up       0.75      0.80      0.77        15\n",
      "                              getting_spare_card       1.00      0.80      0.89        10\n",
      "                        top_up_by_cash_or_cheque       0.78      0.93      0.85        15\n",
      "                             order_physical_card       0.83      0.50      0.62        10\n",
      "                        virtual_card_not_working       1.00      1.00      1.00        18\n",
      "         wrong_exchange_rate_for_cash_withdrawal       0.94      1.00      0.97        17\n",
      "                     get_disposable_virtual_card       0.91      0.91      0.91        11\n",
      "                                   top_up_failed       0.74      0.82      0.78        17\n",
      "         balance_not_updated_after_bank_transfer       0.79      0.85      0.81        13\n",
      "                  cash_withdrawal_not_recognised       0.91      1.00      0.95        10\n",
      "                                 exchange_charge       0.90      0.90      0.90        10\n",
      "                           top_up_by_card_charge       1.00      0.91      0.95        11\n",
      "                                activate_my_card       1.00      1.00      1.00        13\n",
      "                          cash_withdrawal_charge       1.00      1.00      1.00         4\n",
      "                            card_about_to_expire       1.00      1.00      1.00        13\n",
      "                         apple_pay_or_google_pay       0.83      0.83      0.83        12\n",
      "                              verify_my_identity       0.86      1.00      0.92        18\n",
      "                                 country_support       0.79      0.88      0.83        17\n",
      "\n",
      "                                        accuracy                           0.91      1000\n",
      "                                       macro avg       0.91      0.90      0.90      1000\n",
      "                                    weighted avg       0.91      0.91      0.91      1000\n",
      "\n"
     ]
    }
   ],
   "source": [
    "target_names = target_names\n",
    "print(classification_report(y_val, y_val_pred, target_names=target_names))"
   ]
  },
  {
   "cell_type": "code",
   "execution_count": null,
   "metadata": {},
   "outputs": [],
   "source": []
  },
  {
   "cell_type": "code",
   "execution_count": null,
   "metadata": {},
   "outputs": [],
   "source": []
  },
  {
   "cell_type": "code",
   "execution_count": null,
   "metadata": {},
   "outputs": [],
   "source": []
  },
  {
   "cell_type": "code",
   "execution_count": null,
   "metadata": {},
   "outputs": [],
   "source": []
  },
  {
   "cell_type": "code",
   "execution_count": null,
   "metadata": {},
   "outputs": [],
   "source": []
  },
  {
   "cell_type": "markdown",
   "metadata": {},
   "source": [
    "# Experiment 2: Trimmed DF - removed potential labelling errors"
   ]
  },
  {
   "cell_type": "code",
   "execution_count": 99,
   "metadata": {},
   "outputs": [],
   "source": [
    "df_trimmed = pd.read_csv('Banking77_trimmed_updatedLabels_load.csv')"
   ]
  },
  {
   "cell_type": "code",
   "execution_count": 100,
   "metadata": {},
   "outputs": [],
   "source": [
    "target_names=df_trimmed['category'].unique()"
   ]
  },
  {
   "cell_type": "code",
   "execution_count": 101,
   "metadata": {},
   "outputs": [],
   "source": [
    "X_dims_trimmed=X_dims\n",
    "X_dims_trimmed['id']=X_dims_trimmed.index\n",
    "df_trimmed['id']=df_trimmed.index"
   ]
  },
  {
   "cell_type": "code",
   "execution_count": 102,
   "metadata": {},
   "outputs": [
    {
     "data": {
      "text/plain": [
       "(8575, 17)"
      ]
     },
     "execution_count": 102,
     "metadata": {},
     "output_type": "execute_result"
    },
    {
     "data": {
      "text/html": [
       "<div>\n",
       "<style scoped>\n",
       "    .dataframe tbody tr th:only-of-type {\n",
       "        vertical-align: middle;\n",
       "    }\n",
       "\n",
       "    .dataframe tbody tr th {\n",
       "        vertical-align: top;\n",
       "    }\n",
       "\n",
       "    .dataframe thead th {\n",
       "        text-align: right;\n",
       "    }\n",
       "</style>\n",
       "<table border=\"1\" class=\"dataframe\">\n",
       "  <thead>\n",
       "    <tr style=\"text-align: right;\">\n",
       "      <th></th>\n",
       "      <th>id</th>\n",
       "      <th>text_x</th>\n",
       "      <th>category_x</th>\n",
       "      <th>text_y</th>\n",
       "      <th>category_y</th>\n",
       "      <th>0</th>\n",
       "      <th>1</th>\n",
       "      <th>2</th>\n",
       "      <th>3</th>\n",
       "      <th>4</th>\n",
       "      <th>5</th>\n",
       "      <th>6</th>\n",
       "      <th>7</th>\n",
       "      <th>8</th>\n",
       "      <th>9</th>\n",
       "      <th>10</th>\n",
       "      <th>11</th>\n",
       "    </tr>\n",
       "  </thead>\n",
       "  <tbody>\n",
       "    <tr>\n",
       "      <th>0</th>\n",
       "      <td>0</td>\n",
       "      <td>I am still waiting on my card?</td>\n",
       "      <td>card_arrival</td>\n",
       "      <td>I am still waiting on my card?</td>\n",
       "      <td>card_arrival</td>\n",
       "      <td>8.263814</td>\n",
       "      <td>1.805695</td>\n",
       "      <td>5.121025</td>\n",
       "      <td>3.746852</td>\n",
       "      <td>4.953388</td>\n",
       "      <td>2.288532</td>\n",
       "      <td>4.528465</td>\n",
       "      <td>2.029929</td>\n",
       "      <td>4.144418</td>\n",
       "      <td>2.861202</td>\n",
       "      <td>9.808524</td>\n",
       "      <td>2.961788</td>\n",
       "    </tr>\n",
       "    <tr>\n",
       "      <th>1</th>\n",
       "      <td>1</td>\n",
       "      <td>What can I do if my card still hasn't arrived ...</td>\n",
       "      <td>card_arrival</td>\n",
       "      <td>What can I do if my card still hasn't arrived ...</td>\n",
       "      <td>card_arrival</td>\n",
       "      <td>8.083271</td>\n",
       "      <td>1.797391</td>\n",
       "      <td>5.236867</td>\n",
       "      <td>3.670772</td>\n",
       "      <td>5.069145</td>\n",
       "      <td>2.417079</td>\n",
       "      <td>4.629939</td>\n",
       "      <td>2.042497</td>\n",
       "      <td>4.054216</td>\n",
       "      <td>2.766853</td>\n",
       "      <td>10.033391</td>\n",
       "      <td>2.847773</td>\n",
       "    </tr>\n",
       "    <tr>\n",
       "      <th>2</th>\n",
       "      <td>2</td>\n",
       "      <td>Can I track my card while it is in the process...</td>\n",
       "      <td>card_arrival</td>\n",
       "      <td>I have been waiting over a week. Is the card s...</td>\n",
       "      <td>card_arrival</td>\n",
       "      <td>8.091454</td>\n",
       "      <td>1.733188</td>\n",
       "      <td>4.890882</td>\n",
       "      <td>3.658099</td>\n",
       "      <td>5.059527</td>\n",
       "      <td>2.327522</td>\n",
       "      <td>4.621762</td>\n",
       "      <td>2.016839</td>\n",
       "      <td>4.227369</td>\n",
       "      <td>2.529474</td>\n",
       "      <td>9.923305</td>\n",
       "      <td>2.732634</td>\n",
       "    </tr>\n",
       "  </tbody>\n",
       "</table>\n",
       "</div>"
      ],
      "text/plain": [
       "   id                                             text_x    category_x  \\\n",
       "0   0                     I am still waiting on my card?  card_arrival   \n",
       "1   1  What can I do if my card still hasn't arrived ...  card_arrival   \n",
       "2   2  Can I track my card while it is in the process...  card_arrival   \n",
       "\n",
       "                                              text_y    category_y         0  \\\n",
       "0                     I am still waiting on my card?  card_arrival  8.263814   \n",
       "1  What can I do if my card still hasn't arrived ...  card_arrival  8.083271   \n",
       "2  I have been waiting over a week. Is the card s...  card_arrival  8.091454   \n",
       "\n",
       "          1         2         3         4         5         6         7  \\\n",
       "0  1.805695  5.121025  3.746852  4.953388  2.288532  4.528465  2.029929   \n",
       "1  1.797391  5.236867  3.670772  5.069145  2.417079  4.629939  2.042497   \n",
       "2  1.733188  4.890882  3.658099  5.059527  2.327522  4.621762  2.016839   \n",
       "\n",
       "          8         9         10        11  \n",
       "0  4.144418  2.861202   9.808524  2.961788  \n",
       "1  4.054216  2.766853  10.033391  2.847773  \n",
       "2  4.227369  2.529474   9.923305  2.732634  "
      ]
     },
     "execution_count": 102,
     "metadata": {},
     "output_type": "execute_result"
    }
   ],
   "source": [
    "X_dims_trimmed = df_trimmed.merge(X_dims_trimmed, on='id', how='left')\n",
    "X_dims_trimmed.shape\n",
    "X_dims_trimmed.head(3)"
   ]
  },
  {
   "cell_type": "code",
   "execution_count": 123,
   "metadata": {},
   "outputs": [
    {
     "data": {
      "text/plain": [
       "text        Can you track my card for me?\n",
       "category                     card_arrival\n",
       "id                                     12\n",
       "0                                 7.90677\n",
       "1                                 1.09642\n",
       "2                                 4.92486\n",
       "3                                  2.6116\n",
       "4                                 5.08178\n",
       "5                                 2.10143\n",
       "6                                 4.68787\n",
       "7                                 1.34475\n",
       "8                                 4.46809\n",
       "9                                 1.28057\n",
       "10                                 10.003\n",
       "11                                2.94805\n",
       "Name: 12, dtype: object"
      ]
     },
     "execution_count": 123,
     "metadata": {},
     "output_type": "execute_result"
    }
   ],
   "source": [
    "X_dims.iloc[12]"
   ]
  },
  {
   "cell_type": "code",
   "execution_count": 124,
   "metadata": {},
   "outputs": [
    {
     "data": {
      "text/plain": [
       "id                                                           12\n",
       "text_x        My new card has not been delivered to my home ...\n",
       "category_x                                         card_arrival\n",
       "text_y                            Can you track my card for me?\n",
       "category_y                                         card_arrival\n",
       "0                                                       7.90677\n",
       "1                                                       1.09642\n",
       "2                                                       4.92486\n",
       "3                                                        2.6116\n",
       "4                                                       5.08178\n",
       "5                                                       2.10143\n",
       "6                                                       4.68787\n",
       "7                                                       1.34475\n",
       "8                                                       4.46809\n",
       "9                                                       1.28057\n",
       "10                                                       10.003\n",
       "11                                                      2.94805\n",
       "Name: 12, dtype: object"
      ]
     },
     "execution_count": 124,
     "metadata": {},
     "output_type": "execute_result"
    }
   ],
   "source": [
    "X_dims_trimmed.iloc[12]"
   ]
  },
  {
   "cell_type": "code",
   "execution_count": 104,
   "metadata": {},
   "outputs": [],
   "source": [
    "df_trimmed = df_trimmed.drop(['id'], axis=1).to_numpy()"
   ]
  },
  {
   "cell_type": "code",
   "execution_count": 106,
   "metadata": {},
   "outputs": [],
   "source": [
    "X2 = X_dims_trimmed.drop(['id','text_x','category_x','text_y','category_y'], axis=1).to_numpy()\n",
    "y_cat2 = X_dims_trimmed['category_x'].to_numpy()\n",
    "label_transformer = LabelEncoder()\n",
    "y2 = label_transformer.fit_transform(y_cat2)"
   ]
  },
  {
   "cell_type": "code",
   "execution_count": 107,
   "metadata": {},
   "outputs": [
    {
     "name": "stdout",
     "output_type": "stream",
     "text": [
      "split\n"
     ]
    },
    {
     "data": {
      "text/plain": [
       "LGBMClassifier(boosting_type='gbdt', class_weight=None, colsample_bytree=1.0,\n",
       "               importance_type='split', learning_rate=0.1, max_depth=4,\n",
       "               min_child_samples=20, min_child_weight=0.001, min_split_gain=0.0,\n",
       "               n_estimators=1000, n_jobs=5, num_leaves=15, objective=None,\n",
       "               random_state=None, reg_alpha=0.0, reg_lambda=0.0, seed=77,\n",
       "               silent=True, subsample=1.0, subsample_for_bin=200000,\n",
       "               subsample_freq=0, verbosity=-1)"
      ]
     },
     "execution_count": 107,
     "metadata": {},
     "output_type": "execute_result"
    },
    {
     "name": "stdout",
     "output_type": "stream",
     "text": [
      "split\n"
     ]
    },
    {
     "data": {
      "text/plain": [
       "LGBMClassifier(boosting_type='gbdt', class_weight=None, colsample_bytree=1.0,\n",
       "               importance_type='split', learning_rate=0.1, max_depth=4,\n",
       "               min_child_samples=20, min_child_weight=0.001, min_split_gain=0.0,\n",
       "               n_estimators=1000, n_jobs=5, num_leaves=15, objective=None,\n",
       "               random_state=None, reg_alpha=0.0, reg_lambda=0.0, seed=77,\n",
       "               silent=True, subsample=1.0, subsample_for_bin=200000,\n",
       "               subsample_freq=0, verbosity=-1)"
      ]
     },
     "execution_count": 107,
     "metadata": {},
     "output_type": "execute_result"
    },
    {
     "name": "stdout",
     "output_type": "stream",
     "text": [
      "split\n"
     ]
    },
    {
     "data": {
      "text/plain": [
       "LGBMClassifier(boosting_type='gbdt', class_weight=None, colsample_bytree=1.0,\n",
       "               importance_type='split', learning_rate=0.1, max_depth=4,\n",
       "               min_child_samples=20, min_child_weight=0.001, min_split_gain=0.0,\n",
       "               n_estimators=1000, n_jobs=5, num_leaves=15, objective=None,\n",
       "               random_state=None, reg_alpha=0.0, reg_lambda=0.0, seed=77,\n",
       "               silent=True, subsample=1.0, subsample_for_bin=200000,\n",
       "               subsample_freq=0, verbosity=-1)"
      ]
     },
     "execution_count": 107,
     "metadata": {},
     "output_type": "execute_result"
    },
    {
     "name": "stdout",
     "output_type": "stream",
     "text": [
      "split\n"
     ]
    },
    {
     "data": {
      "text/plain": [
       "LGBMClassifier(boosting_type='gbdt', class_weight=None, colsample_bytree=1.0,\n",
       "               importance_type='split', learning_rate=0.1, max_depth=4,\n",
       "               min_child_samples=20, min_child_weight=0.001, min_split_gain=0.0,\n",
       "               n_estimators=1000, n_jobs=5, num_leaves=15, objective=None,\n",
       "               random_state=None, reg_alpha=0.0, reg_lambda=0.0, seed=77,\n",
       "               silent=True, subsample=1.0, subsample_for_bin=200000,\n",
       "               subsample_freq=0, verbosity=-1)"
      ]
     },
     "execution_count": 107,
     "metadata": {},
     "output_type": "execute_result"
    },
    {
     "name": "stdout",
     "output_type": "stream",
     "text": [
      "split\n"
     ]
    },
    {
     "data": {
      "text/plain": [
       "LGBMClassifier(boosting_type='gbdt', class_weight=None, colsample_bytree=1.0,\n",
       "               importance_type='split', learning_rate=0.1, max_depth=4,\n",
       "               min_child_samples=20, min_child_weight=0.001, min_split_gain=0.0,\n",
       "               n_estimators=1000, n_jobs=5, num_leaves=15, objective=None,\n",
       "               random_state=None, reg_alpha=0.0, reg_lambda=0.0, seed=77,\n",
       "               silent=True, subsample=1.0, subsample_for_bin=200000,\n",
       "               subsample_freq=0, verbosity=-1)"
      ]
     },
     "execution_count": 107,
     "metadata": {},
     "output_type": "execute_result"
    },
    {
     "name": "stdout",
     "output_type": "stream",
     "text": [
      "split\n"
     ]
    },
    {
     "data": {
      "text/plain": [
       "LGBMClassifier(boosting_type='gbdt', class_weight=None, colsample_bytree=1.0,\n",
       "               importance_type='split', learning_rate=0.1, max_depth=4,\n",
       "               min_child_samples=20, min_child_weight=0.001, min_split_gain=0.0,\n",
       "               n_estimators=1000, n_jobs=5, num_leaves=15, objective=None,\n",
       "               random_state=None, reg_alpha=0.0, reg_lambda=0.0, seed=77,\n",
       "               silent=True, subsample=1.0, subsample_for_bin=200000,\n",
       "               subsample_freq=0, verbosity=-1)"
      ]
     },
     "execution_count": 107,
     "metadata": {},
     "output_type": "execute_result"
    },
    {
     "name": "stdout",
     "output_type": "stream",
     "text": [
      "split\n"
     ]
    },
    {
     "data": {
      "text/plain": [
       "LGBMClassifier(boosting_type='gbdt', class_weight=None, colsample_bytree=1.0,\n",
       "               importance_type='split', learning_rate=0.1, max_depth=4,\n",
       "               min_child_samples=20, min_child_weight=0.001, min_split_gain=0.0,\n",
       "               n_estimators=1000, n_jobs=5, num_leaves=15, objective=None,\n",
       "               random_state=None, reg_alpha=0.0, reg_lambda=0.0, seed=77,\n",
       "               silent=True, subsample=1.0, subsample_for_bin=200000,\n",
       "               subsample_freq=0, verbosity=-1)"
      ]
     },
     "execution_count": 107,
     "metadata": {},
     "output_type": "execute_result"
    },
    {
     "name": "stdout",
     "output_type": "stream",
     "text": [
      "split\n"
     ]
    },
    {
     "data": {
      "text/plain": [
       "LGBMClassifier(boosting_type='gbdt', class_weight=None, colsample_bytree=1.0,\n",
       "               importance_type='split', learning_rate=0.1, max_depth=4,\n",
       "               min_child_samples=20, min_child_weight=0.001, min_split_gain=0.0,\n",
       "               n_estimators=1000, n_jobs=5, num_leaves=15, objective=None,\n",
       "               random_state=None, reg_alpha=0.0, reg_lambda=0.0, seed=77,\n",
       "               silent=True, subsample=1.0, subsample_for_bin=200000,\n",
       "               subsample_freq=0, verbosity=-1)"
      ]
     },
     "execution_count": 107,
     "metadata": {},
     "output_type": "execute_result"
    },
    {
     "name": "stdout",
     "output_type": "stream",
     "text": [
      "split\n"
     ]
    },
    {
     "data": {
      "text/plain": [
       "LGBMClassifier(boosting_type='gbdt', class_weight=None, colsample_bytree=1.0,\n",
       "               importance_type='split', learning_rate=0.1, max_depth=4,\n",
       "               min_child_samples=20, min_child_weight=0.001, min_split_gain=0.0,\n",
       "               n_estimators=1000, n_jobs=5, num_leaves=15, objective=None,\n",
       "               random_state=None, reg_alpha=0.0, reg_lambda=0.0, seed=77,\n",
       "               silent=True, subsample=1.0, subsample_for_bin=200000,\n",
       "               subsample_freq=0, verbosity=-1)"
      ]
     },
     "execution_count": 107,
     "metadata": {},
     "output_type": "execute_result"
    },
    {
     "name": "stdout",
     "output_type": "stream",
     "text": [
      "split\n"
     ]
    },
    {
     "data": {
      "text/plain": [
       "LGBMClassifier(boosting_type='gbdt', class_weight=None, colsample_bytree=1.0,\n",
       "               importance_type='split', learning_rate=0.1, max_depth=4,\n",
       "               min_child_samples=20, min_child_weight=0.001, min_split_gain=0.0,\n",
       "               n_estimators=1000, n_jobs=5, num_leaves=15, objective=None,\n",
       "               random_state=None, reg_alpha=0.0, reg_lambda=0.0, seed=77,\n",
       "               silent=True, subsample=1.0, subsample_for_bin=200000,\n",
       "               subsample_freq=0, verbosity=-1)"
      ]
     },
     "execution_count": 107,
     "metadata": {},
     "output_type": "execute_result"
    }
   ],
   "source": [
    "kfold = StratifiedKFold(n_splits=10, shuffle=True)\n",
    "\n",
    "res = []\n",
    "\n",
    "split = 0\n",
    "for train_ix, val_ix in kfold.split(X2, y2):\n",
    "    split = split + 1\n",
    "    print(\"split\")\n",
    "    X_train2, X_val2 = X2[train_ix], X2[val_ix]  \n",
    "    y_train2, y_val2 = y2[train_ix], y2[val_ix] \n",
    "    X_orig_val2 = df_trimmed[val_ix]\n",
    "\n",
    "    params = {\n",
    "              \"learning_rate\": 0.1,\n",
    "              \"max_depth\": 4,\n",
    "              \"num_leaves\": 15,\n",
    "              \"n_estimators\": 1000,\n",
    "              \"n_jobs\": 5,\n",
    "              \"verbosity\": -1,\n",
    "              \"seed\": 77,\n",
    "        }\n",
    "    estimator = LGBMClassifier(**params)\n",
    "    estimator.fit(X_train2, y_train2)\n",
    "    \n",
    "    y_val_pred2 =estimator.predict(X_val2)\n",
    "    y_val_pred_proba2 =estimator.predict_proba(X_val2)"
   ]
  },
  {
   "cell_type": "code",
   "execution_count": 110,
   "metadata": {},
   "outputs": [
    {
     "name": "stdout",
     "output_type": "stream",
     "text": [
      "\n",
      "Calculating metrics on TRIMMED\n",
      "Accuracy          = 0.539\n",
      "Zero-one Loss     = 0.461\n",
      "Balanced Accuracy = 0.508\n",
      "Precision         = 0.544\n",
      "Recall            = 0.539\n",
      "F1 Score          = 0.532\n"
     ]
    }
   ],
   "source": [
    "print(\"\\nCalculating metrics on TRIMMED\")\n",
    "\n",
    "print(\"Accuracy          = {:.3f}\".format(accuracy_score(y_val2, y_val_pred2)))\n",
    "print(\"Zero-one Loss     = {:.3f}\".format(zero_one_loss(y_val2, y_val_pred2)))\n",
    "print(\"Balanced Accuracy = {:.3f}\".format(balanced_accuracy_score(y_val2, y_val_pred2)))\n",
    "print(\"Precision         = {:.3f}\".format(precision_score(y_val2, y_val_pred2, average='weighted')))\n",
    "print(\"Recall            = {:.3f}\".format(recall_score(y_val2, y_val_pred2, average='weighted')))\n",
    "print(\"F1 Score          = {:.3f}\".format(f1_score(y_val2, y_val_pred2, average='weighted')))\n"
   ]
  },
  {
   "cell_type": "code",
   "execution_count": 109,
   "metadata": {},
   "outputs": [
    {
     "name": "stdout",
     "output_type": "stream",
     "text": [
      "                                                  precision    recall  f1-score   support\n",
      "\n",
      "                                    card_arrival       0.83      0.67      0.74        15\n",
      "                                    card_linking       0.61      0.73      0.67        15\n",
      "                                   exchange_rate       0.50      0.45      0.48        11\n",
      "                card_payment_wrong_exchange_rate       0.71      0.45      0.56        11\n",
      "                       extra_charge_on_statement       0.55      0.75      0.63         8\n",
      "                         pending_cash_withdrawal       0.46      0.60      0.52        10\n",
      "                           fiat_currency_support       0.89      0.57      0.70        14\n",
      "                          card_delivery_estimate       0.71      0.75      0.73        16\n",
      "                                automatic_top_up       0.12      0.09      0.11        11\n",
      "                                card_not_working       0.56      0.71      0.63        14\n",
      "                                exchange_via_app       0.57      0.67      0.62        12\n",
      "                             lost_or_stolen_card       0.20      0.17      0.18         6\n",
      "                                       age_limit       0.62      1.00      0.77        10\n",
      "                                     pin_blocked       0.57      0.40      0.47        10\n",
      "                         contactless_not_working       0.50      0.31      0.38        13\n",
      "                  top_up_by_bank_transfer_charge       0.67      0.57      0.62         7\n",
      "                                  pending_top_up       0.71      0.75      0.73        16\n",
      "                                 cancel_transfer       0.59      0.71      0.65        14\n",
      "                                   top_up_limits       0.50      0.50      0.50        14\n",
      "                   wrong_amount_of_cash_received       0.20      0.20      0.20         5\n",
      "                        card_payment_fee_charged       0.71      0.75      0.73        16\n",
      "              transfer_not_received_by_recipient       0.55      0.80      0.65        15\n",
      "                  supported_cards_and_currencies       0.14      0.18      0.16        11\n",
      "                            getting_virtual_card       0.14      0.12      0.13         8\n",
      "                                 card_acceptance       0.00      0.00      0.00         3\n",
      "                                 top_up_reverted       0.89      0.67      0.76        12\n",
      "balance_not_updated_after_cheque_or_cash_deposit       0.50      0.45      0.48        11\n",
      "                     card_payment_not_recognised       0.70      1.00      0.82        16\n",
      "                           edit_personal_details       0.61      1.00      0.76        11\n",
      "                             why_verify_identity       0.79      0.69      0.73        16\n",
      "                       unable_to_verify_identity       0.33      0.30      0.32        10\n",
      "                               get_physical_card       0.54      0.64      0.58        11\n",
      "                              visa_or_mastercard       0.75      0.50      0.60        12\n",
      "                              topping_up_by_card       0.27      0.30      0.29        10\n",
      "                          disposable_card_limits       0.69      0.82      0.75        11\n",
      "                                compromised_card       0.50      0.50      0.50        14\n",
      "                                     atm_support       0.36      0.42      0.38        12\n",
      "             direct_debit_payment_not_recognised       0.80      0.73      0.76        11\n",
      "                              passcode_forgotten       0.25      0.33      0.29         9\n",
      "                        declined_cash_withdrawal       0.30      0.30      0.30        10\n",
      "                            pending_card_payment       0.60      0.60      0.60        10\n",
      "                            lost_or_stolen_phone       0.00      0.00      0.00         6\n",
      "                                  request_refund       0.00      0.00      0.00         5\n",
      "                               declined_transfer       0.53      0.82      0.64        11\n",
      "                           Refund_not_showing_up       0.11      0.09      0.10        11\n",
      "                           declined_card_payment       0.56      0.50      0.53        10\n",
      "                                pending_transfer       0.50      0.17      0.25        12\n",
      "                               terminate_account       0.62      0.67      0.64        12\n",
      "                                  card_swallowed       0.36      0.36      0.36        11\n",
      "                       transaction_charged_twice       0.18      0.20      0.19        10\n",
      "                          verify_source_of_funds       0.67      0.80      0.73        10\n",
      "                                 transfer_timing       0.56      0.56      0.56         9\n",
      "                          reverted_card_payment?       0.83      0.62      0.71        16\n",
      "                                      change_pin       0.65      0.73      0.69        15\n",
      "                         beneficiary_not_allowed       0.55      0.60      0.57        10\n",
      "                            transfer_fee_charged       0.50      0.50      0.50        10\n",
      "                                 receiving_money       0.40      0.44      0.42         9\n",
      "                                 failed_transfer       0.75      0.60      0.67        10\n",
      "                           transfer_into_account       0.30      0.30      0.30        10\n",
      "                                   verify_top_up       0.80      0.67      0.73        12\n",
      "                              getting_spare_card       0.83      0.56      0.67         9\n",
      "                        top_up_by_cash_or_cheque       0.42      0.50      0.45        10\n",
      "                             order_physical_card       0.60      0.75      0.67         8\n",
      "                        virtual_card_not_working       0.40      0.38      0.39        16\n",
      "         wrong_exchange_rate_for_cash_withdrawal       0.50      0.44      0.47        16\n",
      "                     get_disposable_virtual_card       0.27      0.30      0.29        10\n",
      "                                   top_up_failed       0.43      0.46      0.44        13\n",
      "         balance_not_updated_after_bank_transfer       0.71      0.56      0.63         9\n",
      "                  cash_withdrawal_not_recognised       0.60      0.38      0.46         8\n",
      "                                 exchange_charge       0.89      0.89      0.89         9\n",
      "                           top_up_by_card_charge       0.45      0.45      0.45        11\n",
      "                                activate_my_card       0.83      0.42      0.56        12\n",
      "                          cash_withdrawal_charge       0.25      0.25      0.25         4\n",
      "                            card_about_to_expire       0.22      0.17      0.19        12\n",
      "                         apple_pay_or_google_pay       0.62      0.50      0.56        10\n",
      "                              verify_my_identity       0.68      0.81      0.74        16\n",
      "                                 country_support       0.47      0.50      0.48        14\n",
      "\n",
      "                                        accuracy                           0.54       857\n",
      "                                       macro avg       0.51      0.51      0.50       857\n",
      "                                    weighted avg       0.54      0.54      0.53       857\n",
      "\n"
     ]
    }
   ],
   "source": [
    "target_names = target_names\n",
    "print(classification_report(y_val2, y_val_pred2, target_names=target_names))"
   ]
  },
  {
   "cell_type": "code",
   "execution_count": null,
   "metadata": {},
   "outputs": [],
   "source": []
  },
  {
   "cell_type": "code",
   "execution_count": null,
   "metadata": {},
   "outputs": [],
   "source": []
  },
  {
   "cell_type": "markdown",
   "metadata": {},
   "source": [
    "# Experiment 3: Cleaned DF - updated potential labelling errors"
   ]
  },
  {
   "cell_type": "code",
   "execution_count": 111,
   "metadata": {},
   "outputs": [],
   "source": [
    "df_clean = pd.read_csv('Banking77_cleaned_updatedLabels_load.csv')"
   ]
  },
  {
   "cell_type": "code",
   "execution_count": 112,
   "metadata": {},
   "outputs": [],
   "source": [
    "target_names=df_clean['category'].unique()"
   ]
  },
  {
   "cell_type": "code",
   "execution_count": null,
   "metadata": {},
   "outputs": [],
   "source": []
  },
  {
   "cell_type": "code",
   "execution_count": 113,
   "metadata": {},
   "outputs": [],
   "source": [
    "X_dims_clean=X_dims\n",
    "X_dims_clean['id']=X_dims_clean.index\n",
    "df_clean['id']=df_clean.index"
   ]
  },
  {
   "cell_type": "code",
   "execution_count": 114,
   "metadata": {},
   "outputs": [
    {
     "data": {
      "text/plain": [
       "(10003, 17)"
      ]
     },
     "execution_count": 114,
     "metadata": {},
     "output_type": "execute_result"
    },
    {
     "data": {
      "text/html": [
       "<div>\n",
       "<style scoped>\n",
       "    .dataframe tbody tr th:only-of-type {\n",
       "        vertical-align: middle;\n",
       "    }\n",
       "\n",
       "    .dataframe tbody tr th {\n",
       "        vertical-align: top;\n",
       "    }\n",
       "\n",
       "    .dataframe thead th {\n",
       "        text-align: right;\n",
       "    }\n",
       "</style>\n",
       "<table border=\"1\" class=\"dataframe\">\n",
       "  <thead>\n",
       "    <tr style=\"text-align: right;\">\n",
       "      <th></th>\n",
       "      <th>id</th>\n",
       "      <th>text_x</th>\n",
       "      <th>category_x</th>\n",
       "      <th>text_y</th>\n",
       "      <th>category_y</th>\n",
       "      <th>0</th>\n",
       "      <th>1</th>\n",
       "      <th>2</th>\n",
       "      <th>3</th>\n",
       "      <th>4</th>\n",
       "      <th>5</th>\n",
       "      <th>6</th>\n",
       "      <th>7</th>\n",
       "      <th>8</th>\n",
       "      <th>9</th>\n",
       "      <th>10</th>\n",
       "      <th>11</th>\n",
       "    </tr>\n",
       "  </thead>\n",
       "  <tbody>\n",
       "    <tr>\n",
       "      <th>0</th>\n",
       "      <td>0</td>\n",
       "      <td>I am still waiting on my card?</td>\n",
       "      <td>card_arrival</td>\n",
       "      <td>I am still waiting on my card?</td>\n",
       "      <td>card_arrival</td>\n",
       "      <td>8.263814</td>\n",
       "      <td>1.805695</td>\n",
       "      <td>5.121025</td>\n",
       "      <td>3.746852</td>\n",
       "      <td>4.953388</td>\n",
       "      <td>2.288532</td>\n",
       "      <td>4.528465</td>\n",
       "      <td>2.029929</td>\n",
       "      <td>4.144418</td>\n",
       "      <td>2.861202</td>\n",
       "      <td>9.808524</td>\n",
       "      <td>2.961788</td>\n",
       "    </tr>\n",
       "    <tr>\n",
       "      <th>1</th>\n",
       "      <td>1</td>\n",
       "      <td>What can I do if my card still hasn't arrived ...</td>\n",
       "      <td>card_arrival</td>\n",
       "      <td>What can I do if my card still hasn't arrived ...</td>\n",
       "      <td>card_arrival</td>\n",
       "      <td>8.083271</td>\n",
       "      <td>1.797391</td>\n",
       "      <td>5.236867</td>\n",
       "      <td>3.670772</td>\n",
       "      <td>5.069145</td>\n",
       "      <td>2.417079</td>\n",
       "      <td>4.629939</td>\n",
       "      <td>2.042497</td>\n",
       "      <td>4.054216</td>\n",
       "      <td>2.766853</td>\n",
       "      <td>10.033391</td>\n",
       "      <td>2.847773</td>\n",
       "    </tr>\n",
       "    <tr>\n",
       "      <th>2</th>\n",
       "      <td>2</td>\n",
       "      <td>I have been waiting over a week. Is the card s...</td>\n",
       "      <td>card_delivery_estimate</td>\n",
       "      <td>I have been waiting over a week. Is the card s...</td>\n",
       "      <td>card_arrival</td>\n",
       "      <td>8.091454</td>\n",
       "      <td>1.733188</td>\n",
       "      <td>4.890882</td>\n",
       "      <td>3.658099</td>\n",
       "      <td>5.059527</td>\n",
       "      <td>2.327522</td>\n",
       "      <td>4.621762</td>\n",
       "      <td>2.016839</td>\n",
       "      <td>4.227369</td>\n",
       "      <td>2.529474</td>\n",
       "      <td>9.923305</td>\n",
       "      <td>2.732634</td>\n",
       "    </tr>\n",
       "  </tbody>\n",
       "</table>\n",
       "</div>"
      ],
      "text/plain": [
       "   id                                             text_x  \\\n",
       "0   0                     I am still waiting on my card?   \n",
       "1   1  What can I do if my card still hasn't arrived ...   \n",
       "2   2  I have been waiting over a week. Is the card s...   \n",
       "\n",
       "               category_x                                             text_y  \\\n",
       "0            card_arrival                     I am still waiting on my card?   \n",
       "1            card_arrival  What can I do if my card still hasn't arrived ...   \n",
       "2  card_delivery_estimate  I have been waiting over a week. Is the card s...   \n",
       "\n",
       "     category_y         0         1         2         3         4         5  \\\n",
       "0  card_arrival  8.263814  1.805695  5.121025  3.746852  4.953388  2.288532   \n",
       "1  card_arrival  8.083271  1.797391  5.236867  3.670772  5.069145  2.417079   \n",
       "2  card_arrival  8.091454  1.733188  4.890882  3.658099  5.059527  2.327522   \n",
       "\n",
       "          6         7         8         9         10        11  \n",
       "0  4.528465  2.029929  4.144418  2.861202   9.808524  2.961788  \n",
       "1  4.629939  2.042497  4.054216  2.766853  10.033391  2.847773  \n",
       "2  4.621762  2.016839  4.227369  2.529474   9.923305  2.732634  "
      ]
     },
     "execution_count": 114,
     "metadata": {},
     "output_type": "execute_result"
    }
   ],
   "source": [
    "X_dims_clean = df_clean.merge(X_dims_clean, on='id', how='left')\n",
    "X_dims_clean.shape\n",
    "X_dims_clean.head(3)"
   ]
  },
  {
   "cell_type": "code",
   "execution_count": 115,
   "metadata": {},
   "outputs": [],
   "source": [
    "df_clean = df_clean.drop(['id'], axis=1).to_numpy()"
   ]
  },
  {
   "cell_type": "code",
   "execution_count": 116,
   "metadata": {},
   "outputs": [],
   "source": [
    "X3 = X_dims_clean.drop(['id','text_x','category_x','text_y','category_y'], axis=1).to_numpy()\n",
    "y_cat3 = X_dims_clean['category_x'].to_numpy()\n",
    "label_transformer = LabelEncoder()\n",
    "y3 = label_transformer.fit_transform(y_cat3)"
   ]
  },
  {
   "cell_type": "code",
   "execution_count": 119,
   "metadata": {},
   "outputs": [
    {
     "name": "stdout",
     "output_type": "stream",
     "text": [
      "split\n"
     ]
    },
    {
     "data": {
      "text/plain": [
       "LGBMClassifier(boosting_type='gbdt', class_weight=None, colsample_bytree=1.0,\n",
       "               importance_type='split', learning_rate=0.1, max_depth=4,\n",
       "               min_child_samples=20, min_child_weight=0.001, min_split_gain=0.0,\n",
       "               n_estimators=1000, n_jobs=5, num_leaves=15, objective=None,\n",
       "               random_state=None, reg_alpha=0.0, reg_lambda=0.0, seed=77,\n",
       "               silent=True, subsample=1.0, subsample_for_bin=200000,\n",
       "               subsample_freq=0, verbosity=-1)"
      ]
     },
     "execution_count": 119,
     "metadata": {},
     "output_type": "execute_result"
    },
    {
     "name": "stdout",
     "output_type": "stream",
     "text": [
      "split\n"
     ]
    },
    {
     "data": {
      "text/plain": [
       "LGBMClassifier(boosting_type='gbdt', class_weight=None, colsample_bytree=1.0,\n",
       "               importance_type='split', learning_rate=0.1, max_depth=4,\n",
       "               min_child_samples=20, min_child_weight=0.001, min_split_gain=0.0,\n",
       "               n_estimators=1000, n_jobs=5, num_leaves=15, objective=None,\n",
       "               random_state=None, reg_alpha=0.0, reg_lambda=0.0, seed=77,\n",
       "               silent=True, subsample=1.0, subsample_for_bin=200000,\n",
       "               subsample_freq=0, verbosity=-1)"
      ]
     },
     "execution_count": 119,
     "metadata": {},
     "output_type": "execute_result"
    },
    {
     "name": "stdout",
     "output_type": "stream",
     "text": [
      "split\n"
     ]
    },
    {
     "data": {
      "text/plain": [
       "LGBMClassifier(boosting_type='gbdt', class_weight=None, colsample_bytree=1.0,\n",
       "               importance_type='split', learning_rate=0.1, max_depth=4,\n",
       "               min_child_samples=20, min_child_weight=0.001, min_split_gain=0.0,\n",
       "               n_estimators=1000, n_jobs=5, num_leaves=15, objective=None,\n",
       "               random_state=None, reg_alpha=0.0, reg_lambda=0.0, seed=77,\n",
       "               silent=True, subsample=1.0, subsample_for_bin=200000,\n",
       "               subsample_freq=0, verbosity=-1)"
      ]
     },
     "execution_count": 119,
     "metadata": {},
     "output_type": "execute_result"
    },
    {
     "name": "stdout",
     "output_type": "stream",
     "text": [
      "split\n"
     ]
    },
    {
     "data": {
      "text/plain": [
       "LGBMClassifier(boosting_type='gbdt', class_weight=None, colsample_bytree=1.0,\n",
       "               importance_type='split', learning_rate=0.1, max_depth=4,\n",
       "               min_child_samples=20, min_child_weight=0.001, min_split_gain=0.0,\n",
       "               n_estimators=1000, n_jobs=5, num_leaves=15, objective=None,\n",
       "               random_state=None, reg_alpha=0.0, reg_lambda=0.0, seed=77,\n",
       "               silent=True, subsample=1.0, subsample_for_bin=200000,\n",
       "               subsample_freq=0, verbosity=-1)"
      ]
     },
     "execution_count": 119,
     "metadata": {},
     "output_type": "execute_result"
    },
    {
     "name": "stdout",
     "output_type": "stream",
     "text": [
      "split\n"
     ]
    },
    {
     "data": {
      "text/plain": [
       "LGBMClassifier(boosting_type='gbdt', class_weight=None, colsample_bytree=1.0,\n",
       "               importance_type='split', learning_rate=0.1, max_depth=4,\n",
       "               min_child_samples=20, min_child_weight=0.001, min_split_gain=0.0,\n",
       "               n_estimators=1000, n_jobs=5, num_leaves=15, objective=None,\n",
       "               random_state=None, reg_alpha=0.0, reg_lambda=0.0, seed=77,\n",
       "               silent=True, subsample=1.0, subsample_for_bin=200000,\n",
       "               subsample_freq=0, verbosity=-1)"
      ]
     },
     "execution_count": 119,
     "metadata": {},
     "output_type": "execute_result"
    },
    {
     "name": "stdout",
     "output_type": "stream",
     "text": [
      "split\n"
     ]
    },
    {
     "data": {
      "text/plain": [
       "LGBMClassifier(boosting_type='gbdt', class_weight=None, colsample_bytree=1.0,\n",
       "               importance_type='split', learning_rate=0.1, max_depth=4,\n",
       "               min_child_samples=20, min_child_weight=0.001, min_split_gain=0.0,\n",
       "               n_estimators=1000, n_jobs=5, num_leaves=15, objective=None,\n",
       "               random_state=None, reg_alpha=0.0, reg_lambda=0.0, seed=77,\n",
       "               silent=True, subsample=1.0, subsample_for_bin=200000,\n",
       "               subsample_freq=0, verbosity=-1)"
      ]
     },
     "execution_count": 119,
     "metadata": {},
     "output_type": "execute_result"
    },
    {
     "name": "stdout",
     "output_type": "stream",
     "text": [
      "split\n"
     ]
    },
    {
     "data": {
      "text/plain": [
       "LGBMClassifier(boosting_type='gbdt', class_weight=None, colsample_bytree=1.0,\n",
       "               importance_type='split', learning_rate=0.1, max_depth=4,\n",
       "               min_child_samples=20, min_child_weight=0.001, min_split_gain=0.0,\n",
       "               n_estimators=1000, n_jobs=5, num_leaves=15, objective=None,\n",
       "               random_state=None, reg_alpha=0.0, reg_lambda=0.0, seed=77,\n",
       "               silent=True, subsample=1.0, subsample_for_bin=200000,\n",
       "               subsample_freq=0, verbosity=-1)"
      ]
     },
     "execution_count": 119,
     "metadata": {},
     "output_type": "execute_result"
    },
    {
     "name": "stdout",
     "output_type": "stream",
     "text": [
      "split\n"
     ]
    },
    {
     "data": {
      "text/plain": [
       "LGBMClassifier(boosting_type='gbdt', class_weight=None, colsample_bytree=1.0,\n",
       "               importance_type='split', learning_rate=0.1, max_depth=4,\n",
       "               min_child_samples=20, min_child_weight=0.001, min_split_gain=0.0,\n",
       "               n_estimators=1000, n_jobs=5, num_leaves=15, objective=None,\n",
       "               random_state=None, reg_alpha=0.0, reg_lambda=0.0, seed=77,\n",
       "               silent=True, subsample=1.0, subsample_for_bin=200000,\n",
       "               subsample_freq=0, verbosity=-1)"
      ]
     },
     "execution_count": 119,
     "metadata": {},
     "output_type": "execute_result"
    },
    {
     "name": "stdout",
     "output_type": "stream",
     "text": [
      "split\n"
     ]
    },
    {
     "data": {
      "text/plain": [
       "LGBMClassifier(boosting_type='gbdt', class_weight=None, colsample_bytree=1.0,\n",
       "               importance_type='split', learning_rate=0.1, max_depth=4,\n",
       "               min_child_samples=20, min_child_weight=0.001, min_split_gain=0.0,\n",
       "               n_estimators=1000, n_jobs=5, num_leaves=15, objective=None,\n",
       "               random_state=None, reg_alpha=0.0, reg_lambda=0.0, seed=77,\n",
       "               silent=True, subsample=1.0, subsample_for_bin=200000,\n",
       "               subsample_freq=0, verbosity=-1)"
      ]
     },
     "execution_count": 119,
     "metadata": {},
     "output_type": "execute_result"
    },
    {
     "name": "stdout",
     "output_type": "stream",
     "text": [
      "split\n"
     ]
    },
    {
     "data": {
      "text/plain": [
       "LGBMClassifier(boosting_type='gbdt', class_weight=None, colsample_bytree=1.0,\n",
       "               importance_type='split', learning_rate=0.1, max_depth=4,\n",
       "               min_child_samples=20, min_child_weight=0.001, min_split_gain=0.0,\n",
       "               n_estimators=1000, n_jobs=5, num_leaves=15, objective=None,\n",
       "               random_state=None, reg_alpha=0.0, reg_lambda=0.0, seed=77,\n",
       "               silent=True, subsample=1.0, subsample_for_bin=200000,\n",
       "               subsample_freq=0, verbosity=-1)"
      ]
     },
     "execution_count": 119,
     "metadata": {},
     "output_type": "execute_result"
    }
   ],
   "source": [
    "kfold = StratifiedKFold(n_splits=10, shuffle=True)\n",
    "\n",
    "res = []\n",
    "\n",
    "split = 0\n",
    "for train_ix, val_ix in kfold.split(X3, y3):\n",
    "    split = split + 1\n",
    "    print(\"split\")\n",
    "    X_train3, X_val3 = X3[train_ix], X3[val_ix]  \n",
    "    y_train3, y_val3 = y3[train_ix], y3[val_ix] \n",
    "    X_orig_val3 = df_clean[val_ix]\n",
    "\n",
    "    params = {\n",
    "              \"learning_rate\": 0.1,\n",
    "              \"max_depth\": 4,\n",
    "              \"num_leaves\": 15,\n",
    "              \"n_estimators\": 1000,\n",
    "              \"n_jobs\": 5,\n",
    "              \"verbosity\": -1,\n",
    "              \"seed\": 77,\n",
    "        }\n",
    "    estimator = LGBMClassifier(**params)\n",
    "    estimator.fit(X_train3, y_train3)\n",
    "    \n",
    "    y_val_pred3 =estimator.predict(X_val3)\n",
    "    y_val_pred_proba3 =estimator.predict_proba(X_val3)"
   ]
  },
  {
   "cell_type": "code",
   "execution_count": 120,
   "metadata": {},
   "outputs": [
    {
     "name": "stdout",
     "output_type": "stream",
     "text": [
      "\n",
      "Calculating metrics on TRIMMED\n",
      "Accuracy          = 0.824\n",
      "Zero-one Loss     = 0.176\n",
      "Balanced Accuracy = 0.832\n",
      "Precision         = 0.836\n",
      "Recall            = 0.824\n",
      "F1 Score          = 0.823\n"
     ]
    }
   ],
   "source": [
    "print(\"\\nCalculating metrics on CLEANED\")\n",
    "\n",
    "print(\"Accuracy          = {:.3f}\".format(accuracy_score(y_val3, y_val_pred3)))\n",
    "print(\"Zero-one Loss     = {:.3f}\".format(zero_one_loss(y_val3, y_val_pred3)))\n",
    "print(\"Balanced Accuracy = {:.3f}\".format(balanced_accuracy_score(y_val3, y_val_pred3)))\n",
    "print(\"Precision         = {:.3f}\".format(precision_score(y_val3, y_val_pred3, average='weighted')))\n",
    "print(\"Recall            = {:.3f}\".format(recall_score(y_val3, y_val_pred3, average='weighted')))\n",
    "print(\"F1 Score          = {:.3f}\".format(f1_score(y_val3, y_val_pred3, average='weighted')))\n"
   ]
  },
  {
   "cell_type": "code",
   "execution_count": 121,
   "metadata": {},
   "outputs": [
    {
     "name": "stdout",
     "output_type": "stream",
     "text": [
      "                                                  precision    recall  f1-score   support\n",
      "\n",
      "                                    card_arrival       0.79      0.83      0.81        18\n",
      "                          card_delivery_estimate       1.00      0.94      0.97        18\n",
      "                             lost_or_stolen_card       1.00      1.00      1.00        10\n",
      "              transfer_not_received_by_recipient       0.89      0.67      0.76        12\n",
      "                                exchange_via_app       1.00      0.89      0.94         9\n",
      "                             order_physical_card       0.77      0.91      0.83        11\n",
      "                                 cancel_transfer       0.70      0.73      0.71        22\n",
      "                                    card_linking       0.89      0.94      0.92        18\n",
      "                                activate_my_card       0.80      0.67      0.73        12\n",
      "                     get_disposable_virtual_card       0.93      0.87      0.90        15\n",
      "                         beneficiary_not_allowed       0.92      0.79      0.85        14\n",
      "                            card_about_to_expire       1.00      0.83      0.91         6\n",
      "                                   exchange_rate       0.77      0.83      0.80        12\n",
      "         wrong_exchange_rate_for_cash_withdrawal       0.80      0.92      0.86        13\n",
      "                                 failed_transfer       1.00      0.92      0.96        13\n",
      "                          disposable_card_limits       0.46      0.75      0.57         8\n",
      "                card_payment_wrong_exchange_rate       0.87      0.72      0.79        18\n",
      "                           Refund_not_showing_up       0.71      0.67      0.69        15\n",
      "                                 exchange_charge       0.74      0.88      0.80        16\n",
      "                            pending_card_payment       0.86      1.00      0.92         6\n",
      "                       extra_charge_on_statement       0.89      0.89      0.89        18\n",
      "                        card_payment_fee_charged       0.93      0.81      0.87        16\n",
      "             direct_debit_payment_not_recognised       0.92      1.00      0.96        12\n",
      "                  supported_cards_and_currencies       0.53      0.89      0.67         9\n",
      "                          cash_withdrawal_charge       1.00      0.67      0.80         3\n",
      "                       transaction_charged_twice       0.93      1.00      0.96        13\n",
      "                     card_payment_not_recognised       0.63      0.75      0.69        16\n",
      "                         pending_cash_withdrawal       1.00      0.94      0.97        17\n",
      "                  cash_withdrawal_not_recognised       1.00      0.64      0.78        11\n",
      "                   wrong_amount_of_cash_received       0.79      0.75      0.77        20\n",
      "                            transfer_fee_charged       0.85      0.92      0.88        12\n",
      "balance_not_updated_after_cheque_or_cash_deposit       1.00      1.00      1.00        11\n",
      "                           fiat_currency_support       0.86      1.00      0.92        12\n",
      "                                 receiving_money       1.00      0.82      0.90        11\n",
      "                                automatic_top_up       0.83      0.71      0.77        14\n",
      "                                   top_up_limits       0.62      0.87      0.72        15\n",
      "                                  pending_top_up       0.83      0.83      0.83        18\n",
      "                           transfer_into_account       0.89      0.73      0.80        11\n",
      "         balance_not_updated_after_bank_transfer       0.69      0.69      0.69        13\n",
      "                                card_not_working       0.75      0.90      0.82        10\n",
      "                           declined_card_payment       0.80      0.73      0.76        11\n",
      "                               declined_transfer       0.57      0.67      0.62         6\n",
      "                                      change_pin       0.67      0.67      0.67         6\n",
      "                        virtual_card_not_working       0.91      0.83      0.87        12\n",
      "                                compromised_card       0.91      0.71      0.80        14\n",
      "                            lost_or_stolen_phone       0.91      1.00      0.95        10\n",
      "                                  card_swallowed       0.83      0.71      0.77        14\n",
      "                                       age_limit       1.00      1.00      1.00        13\n",
      "                        top_up_by_cash_or_cheque       0.78      0.47      0.58        15\n",
      "                                     pin_blocked       1.00      0.46      0.63        13\n",
      "                               get_physical_card       1.00      0.91      0.95        11\n",
      "                             why_verify_identity       0.90      1.00      0.95         9\n",
      "                               terminate_account       0.82      0.82      0.82        17\n",
      "                         contactless_not_working       0.78      0.74      0.76        19\n",
      "                  top_up_by_bank_transfer_charge       0.83      0.83      0.83        12\n",
      "                           top_up_by_card_charge       1.00      1.00      1.00        11\n",
      "                                 transfer_timing       0.83      1.00      0.91        10\n",
      "                              topping_up_by_card       0.83      0.83      0.83        12\n",
      "                                 top_up_reverted       0.82      0.75      0.78        12\n",
      "                                   top_up_failed       0.67      0.94      0.78        17\n",
      "                                   verify_top_up       0.90      0.90      0.90        10\n",
      "                          reverted_card_payment?       0.80      0.57      0.67        14\n",
      "                                pending_transfer       0.73      0.89      0.80         9\n",
      "                                  request_refund       0.74      1.00      0.85        17\n",
      "                        declined_cash_withdrawal       0.80      0.89      0.84        18\n",
      "                                     atm_support       0.71      0.71      0.71        14\n",
      "                              visa_or_mastercard       0.52      0.46      0.49        28\n",
      "                                 country_support       0.71      0.83      0.77        12\n",
      "                            getting_virtual_card       1.00      1.00      1.00        10\n",
      "                                 card_acceptance       0.83      0.91      0.87        11\n",
      "                          verify_source_of_funds       1.00      0.91      0.95        11\n",
      "                         apple_pay_or_google_pay       1.00      1.00      1.00        12\n",
      "                           edit_personal_details       1.00      0.80      0.89         5\n",
      "                       unable_to_verify_identity       0.93      1.00      0.96        13\n",
      "                              verify_my_identity       0.90      0.82      0.86        11\n",
      "                              getting_spare_card       0.83      0.94      0.88        16\n",
      "                              passcode_forgotten       0.93      0.76      0.84        17\n",
      "\n",
      "                                        accuracy                           0.82      1000\n",
      "                                       macro avg       0.84      0.83      0.83      1000\n",
      "                                    weighted avg       0.84      0.82      0.82      1000\n",
      "\n"
     ]
    }
   ],
   "source": [
    "target_names = target_names\n",
    "print(classification_report(y_val3, y_val_pred3, target_names=target_names))"
   ]
  },
  {
   "cell_type": "code",
   "execution_count": null,
   "metadata": {},
   "outputs": [],
   "source": []
  },
  {
   "cell_type": "code",
   "execution_count": null,
   "metadata": {},
   "outputs": [],
   "source": []
  },
  {
   "cell_type": "code",
   "execution_count": null,
   "metadata": {},
   "outputs": [],
   "source": []
  },
  {
   "cell_type": "code",
   "execution_count": null,
   "metadata": {},
   "outputs": [],
   "source": []
  },
  {
   "cell_type": "code",
   "execution_count": null,
   "metadata": {},
   "outputs": [],
   "source": []
  },
  {
   "cell_type": "code",
   "execution_count": null,
   "metadata": {},
   "outputs": [],
   "source": []
  },
  {
   "cell_type": "code",
   "execution_count": null,
   "metadata": {},
   "outputs": [],
   "source": []
  },
  {
   "cell_type": "code",
   "execution_count": null,
   "metadata": {},
   "outputs": [],
   "source": []
  },
  {
   "cell_type": "code",
   "execution_count": null,
   "metadata": {},
   "outputs": [],
   "source": []
  },
  {
   "cell_type": "code",
   "execution_count": null,
   "metadata": {},
   "outputs": [],
   "source": []
  },
  {
   "cell_type": "code",
   "execution_count": null,
   "metadata": {},
   "outputs": [],
   "source": []
  }
 ],
 "metadata": {
  "kernelspec": {
   "display_name": "Python 3 (ipykernel)",
   "language": "python",
   "name": "python3"
  },
  "language_info": {
   "codemirror_mode": {
    "name": "ipython",
    "version": 3
   },
   "file_extension": ".py",
   "mimetype": "text/x-python",
   "name": "python",
   "nbconvert_exporter": "python",
   "pygments_lexer": "ipython3",
   "version": "3.6.8"
  }
 },
 "nbformat": 4,
 "nbformat_minor": 2
}
