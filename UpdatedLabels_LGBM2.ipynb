{
 "cells": [
  {
   "cell_type": "markdown",
   "metadata": {},
   "source": [
    "# Banking77 Experiments with LGBM and UMAP\n",
    "\n",
    "Experiments with original and trimmed versions of the dataset."
   ]
  },
  {
   "cell_type": "code",
   "execution_count": 1,
   "metadata": {},
   "outputs": [],
   "source": [
    "import pandas as pd\n",
    "import seaborn as sns\n",
    "import numpy as np\n",
    "from matplotlib import pyplot as plt\n",
    "from lightgbm import LGBMClassifier\n",
    "from sklearn.model_selection import train_test_split, StratifiedKFold\n",
    "from sklearn.preprocessing import LabelEncoder\n",
    "from sklearn.metrics import accuracy_score, balanced_accuracy_score, precision_score, f1_score, classification_report"
   ]
  },
  {
   "cell_type": "code",
   "execution_count": 2,
   "metadata": {},
   "outputs": [],
   "source": [
    "from sklearn.metrics import accuracy_score,zero_one_loss,balanced_accuracy_score, brier_score_loss,precision_score, recall_score, f1_score, mean_squared_error, classification_report"
   ]
  },
  {
   "cell_type": "code",
   "execution_count": 3,
   "metadata": {},
   "outputs": [],
   "source": [
    "# some setting for this notebook to actually show the graphs inline\n",
    "%matplotlib inline\n",
    "np.set_printoptions(precision=5, suppress=True)  # suppress scientific float notation\n",
    "\n",
    "from IPython.core.interactiveshell import InteractiveShell\n",
    "InteractiveShell.ast_node_interactivity = \"all\""
   ]
  },
  {
   "cell_type": "code",
   "execution_count": 4,
   "metadata": {},
   "outputs": [],
   "source": [
    "def run_experiment(X, y):\n",
    "\n",
    "    kfold = StratifiedKFold(n_splits=5, shuffle=True)\n",
    "\n",
    "    res = []\n",
    "\n",
    "    split = 0\n",
    "    for train_ix, val_ix in kfold.split(X, y):\n",
    "        split = split + 1\n",
    "        print(\"split {}\".format(split))\n",
    "        \n",
    "        \n",
    "        X_train, X_val = X[train_ix], X[val_ix]  \n",
    "        y_train, y_val = y[train_ix], y[val_ix] \n",
    "\n",
    "        params = {\n",
    "                  \"learning_rate\": 0.1,\n",
    "                  \"max_depth\": 4,\n",
    "                  \"num_leaves\": 15,\n",
    "                  \"n_estimators\": 1000,\n",
    "                  \"n_jobs\": 5,\n",
    "                  \"verbosity\": -1,\n",
    "                  \"seed\": 77,\n",
    "            }\n",
    "        estimator = LGBMClassifier(**params)\n",
    "        estimator = estimator.fit(X_train, y_train)\n",
    "\n",
    "        y_val_pred = estimator.predict(X_val)\n",
    "        y_val_pred_proba =estimator.predict_proba(X_val)\n",
    "        \n",
    "        scores = {\n",
    "            'split': split,\n",
    "            'accuracy_score': accuracy_score(y_val, y_val_pred),\n",
    "            'balanced_accuracy_score': balanced_accuracy_score(y_val, y_val_pred),\n",
    "            'f1_score_macro': f1_score(y_val, y_val_pred, average='macro'),\n",
    "            'f1_score_weighted': f1_score(y_val, y_val_pred, average='weighted'),\n",
    "        }\n",
    "        \n",
    "        res.append(scores)\n",
    "\n",
    "    return pd.DataFrame(res)"
   ]
  },
  {
   "cell_type": "markdown",
   "metadata": {},
   "source": [
    "# Original Dataset"
   ]
  },
  {
   "cell_type": "code",
   "execution_count": 5,
   "metadata": {},
   "outputs": [],
   "source": [
    "df = pd.read_csv('/global/project/hpcg1614_shared/ca/data/banking77/clean_embed_all-mpnet-base-v2.csv')\n",
    "\n",
    "X = df.drop(['category'], axis=1).to_numpy()\n",
    "y_cat = df['category'].to_numpy()\n",
    "label_transformer = LabelEncoder()\n",
    "y = label_transformer.fit_transform(y_cat)"
   ]
  },
  {
   "cell_type": "code",
   "execution_count": 6,
   "metadata": {},
   "outputs": [
    {
     "data": {
      "text/plain": [
       "(10003, 768)"
      ]
     },
     "execution_count": 6,
     "metadata": {},
     "output_type": "execute_result"
    }
   ],
   "source": [
    "X.shape"
   ]
  },
  {
   "cell_type": "code",
   "execution_count": 7,
   "metadata": {},
   "outputs": [
    {
     "name": "stdout",
     "output_type": "stream",
     "text": [
      "split 1\n",
      "split 2\n",
      "split 3\n",
      "split 4\n",
      "split 5\n"
     ]
    }
   ],
   "source": [
    "res1 = run_experiment(X, y)"
   ]
  },
  {
   "cell_type": "code",
   "execution_count": 8,
   "metadata": {},
   "outputs": [
    {
     "data": {
      "text/html": [
       "<div>\n",
       "<style scoped>\n",
       "    .dataframe tbody tr th:only-of-type {\n",
       "        vertical-align: middle;\n",
       "    }\n",
       "\n",
       "    .dataframe tbody tr th {\n",
       "        vertical-align: top;\n",
       "    }\n",
       "\n",
       "    .dataframe thead th {\n",
       "        text-align: right;\n",
       "    }\n",
       "</style>\n",
       "<table border=\"1\" class=\"dataframe\">\n",
       "  <thead>\n",
       "    <tr style=\"text-align: right;\">\n",
       "      <th></th>\n",
       "      <th>split</th>\n",
       "      <th>accuracy_score</th>\n",
       "      <th>balanced_accuracy_score</th>\n",
       "      <th>f1_score_macro</th>\n",
       "      <th>f1_score_weighted</th>\n",
       "    </tr>\n",
       "  </thead>\n",
       "  <tbody>\n",
       "    <tr>\n",
       "      <th>0</th>\n",
       "      <td>1</td>\n",
       "      <td>0.882059</td>\n",
       "      <td>0.878338</td>\n",
       "      <td>0.878739</td>\n",
       "      <td>0.881876</td>\n",
       "    </tr>\n",
       "    <tr>\n",
       "      <th>1</th>\n",
       "      <td>2</td>\n",
       "      <td>0.887056</td>\n",
       "      <td>0.886343</td>\n",
       "      <td>0.885905</td>\n",
       "      <td>0.886900</td>\n",
       "    </tr>\n",
       "    <tr>\n",
       "      <th>2</th>\n",
       "      <td>3</td>\n",
       "      <td>0.896552</td>\n",
       "      <td>0.891017</td>\n",
       "      <td>0.891703</td>\n",
       "      <td>0.896229</td>\n",
       "    </tr>\n",
       "    <tr>\n",
       "      <th>3</th>\n",
       "      <td>4</td>\n",
       "      <td>0.892000</td>\n",
       "      <td>0.886242</td>\n",
       "      <td>0.887559</td>\n",
       "      <td>0.891571</td>\n",
       "    </tr>\n",
       "    <tr>\n",
       "      <th>4</th>\n",
       "      <td>5</td>\n",
       "      <td>0.879000</td>\n",
       "      <td>0.875199</td>\n",
       "      <td>0.874678</td>\n",
       "      <td>0.878324</td>\n",
       "    </tr>\n",
       "  </tbody>\n",
       "</table>\n",
       "</div>"
      ],
      "text/plain": [
       "   split  accuracy_score  balanced_accuracy_score  f1_score_macro  \\\n",
       "0      1        0.882059                 0.878338        0.878739   \n",
       "1      2        0.887056                 0.886343        0.885905   \n",
       "2      3        0.896552                 0.891017        0.891703   \n",
       "3      4        0.892000                 0.886242        0.887559   \n",
       "4      5        0.879000                 0.875199        0.874678   \n",
       "\n",
       "   f1_score_weighted  \n",
       "0           0.881876  \n",
       "1           0.886900  \n",
       "2           0.896229  \n",
       "3           0.891571  \n",
       "4           0.878324  "
      ]
     },
     "execution_count": 8,
     "metadata": {},
     "output_type": "execute_result"
    }
   ],
   "source": [
    "res1"
   ]
  },
  {
   "cell_type": "markdown",
   "metadata": {},
   "source": [
    "# Trimmed Dataset"
   ]
  },
  {
   "cell_type": "code",
   "execution_count": 9,
   "metadata": {},
   "outputs": [],
   "source": [
    "df_trimmed = pd.read_csv('Banking77_trimmed_updatedLabels_load.csv')\n",
    "trimmed_ids = list(df_trimmed['id'].to_numpy())"
   ]
  },
  {
   "cell_type": "code",
   "execution_count": 10,
   "metadata": {},
   "outputs": [
    {
     "data": {
      "text/plain": [
       "(8575, 768)"
      ]
     },
     "execution_count": 10,
     "metadata": {},
     "output_type": "execute_result"
    }
   ],
   "source": [
    "X_trimmed = X[trimmed_ids]\n",
    "y_trimmed = y[trimmed_ids]\n",
    "X_trimmed.shape"
   ]
  },
  {
   "cell_type": "code",
   "execution_count": null,
   "metadata": {},
   "outputs": [
    {
     "name": "stdout",
     "output_type": "stream",
     "text": [
      "split 1\n",
      "split 2\n"
     ]
    }
   ],
   "source": [
    "res2 = run_experiment(X_trimmed, y_trimmed)"
   ]
  },
  {
   "cell_type": "code",
   "execution_count": null,
   "metadata": {},
   "outputs": [],
   "source": [
    "res2"
   ]
  },
  {
   "cell_type": "markdown",
   "metadata": {},
   "source": [
    "# Original Dataset + UMAP"
   ]
  },
  {
   "cell_type": "code",
   "execution_count": null,
   "metadata": {},
   "outputs": [],
   "source": [
    "from umap import UMAP\n",
    "\n",
    "\n",
    "u_params = {\n",
    "        'n_components': 30,\n",
    "        'n_neighbors': 20,\n",
    "        'min_dist': 0.1,\n",
    "        'metric': \"euclidean\"\n",
    "}\n",
    "\n",
    "dim_reducer = UMAP(**u_params)\n",
    "dim_reducer = dim_reducer.fit(X)\n",
    "X_dims = dim_reducer.transform(X)"
   ]
  },
  {
   "cell_type": "code",
   "execution_count": null,
   "metadata": {},
   "outputs": [],
   "source": [
    "res3 = run_experiment(X, y)"
   ]
  },
  {
   "cell_type": "code",
   "execution_count": null,
   "metadata": {},
   "outputs": [],
   "source": [
    "res3"
   ]
  },
  {
   "cell_type": "markdown",
   "metadata": {},
   "source": [
    "# Trimmed Dataset + UMAP"
   ]
  },
  {
   "cell_type": "code",
   "execution_count": null,
   "metadata": {},
   "outputs": [],
   "source": [
    "X_dims_trimmed = X_dims[trimmed_ids]\n",
    "y_dims_trimmed = y_dims[trimmed_ids]"
   ]
  },
  {
   "cell_type": "code",
   "execution_count": null,
   "metadata": {},
   "outputs": [],
   "source": [
    "res4 = run_experiment(X_dims_trimmed, y_dims_trimmed)"
   ]
  },
  {
   "cell_type": "code",
   "execution_count": null,
   "metadata": {},
   "outputs": [],
   "source": [
    "res4"
   ]
  }
 ],
 "metadata": {
  "kernelspec": {
   "display_name": "Python 3",
   "language": "python",
   "name": "python3"
  },
  "language_info": {
   "codemirror_mode": {
    "name": "ipython",
    "version": 3
   },
   "file_extension": ".py",
   "mimetype": "text/x-python",
   "name": "python",
   "nbconvert_exporter": "python",
   "pygments_lexer": "ipython3",
   "version": "3.6.8"
  }
 },
 "nbformat": 4,
 "nbformat_minor": 2
}
