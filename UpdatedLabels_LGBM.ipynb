{
 "cells": [
  {
   "cell_type": "code",
   "execution_count": 7,
   "metadata": {},
   "outputs": [],
   "source": [
    "import pandas as pd\n",
    "import seaborn as sns\n",
    "import numpy as np\n",
    "from matplotlib import pyplot as plt\n",
    "from lightgbm import LGBMClassifier\n",
    "from sklearn.model_selection import train_test_split, StratifiedKFold\n",
    "from sklearn.preprocessing import LabelEncoder\n"
   ]
  },
  {
   "cell_type": "code",
   "execution_count": null,
   "metadata": {},
   "outputs": [],
   "source": [
    "from sklearn.metrics import  accuracy_score, f1_score, mean_squared_error"
   ]
  },
  {
   "cell_type": "code",
   "execution_count": 3,
   "metadata": {},
   "outputs": [],
   "source": [
    "# some setting for this notebook to actually show the graphs inline\n",
    "%matplotlib inline\n",
    "np.set_printoptions(precision=5, suppress=True)  # suppress scientific float notation\n",
    "\n",
    "from IPython.core.interactiveshell import InteractiveShell\n",
    "InteractiveShell.ast_node_interactivity = \"all\""
   ]
  },
  {
   "cell_type": "code",
   "execution_count": 5,
   "metadata": {},
   "outputs": [],
   "source": [
    "model = 'clean_embed_all-mpnet-base-v2.csv'\n",
    "df = pd.read_csv('/global/project/hpcg1614_shared/ca/data/banking77/{}'.format(model))"
   ]
  },
  {
   "cell_type": "markdown",
   "metadata": {},
   "source": [
    "# Experiment 1: Baseline with Original df"
   ]
  },
  {
   "cell_type": "code",
   "execution_count": 13,
   "metadata": {},
   "outputs": [],
   "source": [
    "df_orig = pd.read_csv('clean.csv')\n",
    "df_orig = df_orig.to_numpy()"
   ]
  },
  {
   "cell_type": "code",
   "execution_count": 8,
   "metadata": {},
   "outputs": [],
   "source": [
    "X = df.drop(['category'], axis=1).to_numpy()\n",
    "y_cat = df['category'].to_numpy()\n",
    "label_transformer = LabelEncoder()\n",
    "y = label_transformer.fit_transform(y_cat)"
   ]
  },
  {
   "cell_type": "code",
   "execution_count": null,
   "metadata": {},
   "outputs": [
    {
     "name": "stdout",
     "output_type": "stream",
     "text": [
      "split\n"
     ]
    },
    {
     "data": {
      "text/plain": [
       "LGBMClassifier(boosting_type='gbdt', class_weight=None, colsample_bytree=1.0,\n",
       "               importance_type='split', learning_rate=0.1, max_depth=4,\n",
       "               min_child_samples=20, min_child_weight=0.001, min_split_gain=0.0,\n",
       "               n_estimators=1000, n_jobs=5, num_leaves=15, objective=None,\n",
       "               random_state=None, reg_alpha=0.0, reg_lambda=0.0, seed=77,\n",
       "               silent=True, subsample=1.0, subsample_for_bin=200000,\n",
       "               subsample_freq=0, verbosity=-1)"
      ]
     },
     "execution_count": 15,
     "metadata": {},
     "output_type": "execute_result"
    },
    {
     "name": "stdout",
     "output_type": "stream",
     "text": [
      "split\n"
     ]
    },
    {
     "data": {
      "text/plain": [
       "LGBMClassifier(boosting_type='gbdt', class_weight=None, colsample_bytree=1.0,\n",
       "               importance_type='split', learning_rate=0.1, max_depth=4,\n",
       "               min_child_samples=20, min_child_weight=0.001, min_split_gain=0.0,\n",
       "               n_estimators=1000, n_jobs=5, num_leaves=15, objective=None,\n",
       "               random_state=None, reg_alpha=0.0, reg_lambda=0.0, seed=77,\n",
       "               silent=True, subsample=1.0, subsample_for_bin=200000,\n",
       "               subsample_freq=0, verbosity=-1)"
      ]
     },
     "execution_count": 15,
     "metadata": {},
     "output_type": "execute_result"
    },
    {
     "name": "stdout",
     "output_type": "stream",
     "text": [
      "split\n"
     ]
    },
    {
     "data": {
      "text/plain": [
       "LGBMClassifier(boosting_type='gbdt', class_weight=None, colsample_bytree=1.0,\n",
       "               importance_type='split', learning_rate=0.1, max_depth=4,\n",
       "               min_child_samples=20, min_child_weight=0.001, min_split_gain=0.0,\n",
       "               n_estimators=1000, n_jobs=5, num_leaves=15, objective=None,\n",
       "               random_state=None, reg_alpha=0.0, reg_lambda=0.0, seed=77,\n",
       "               silent=True, subsample=1.0, subsample_for_bin=200000,\n",
       "               subsample_freq=0, verbosity=-1)"
      ]
     },
     "execution_count": 15,
     "metadata": {},
     "output_type": "execute_result"
    },
    {
     "name": "stdout",
     "output_type": "stream",
     "text": [
      "split\n"
     ]
    },
    {
     "data": {
      "text/plain": [
       "LGBMClassifier(boosting_type='gbdt', class_weight=None, colsample_bytree=1.0,\n",
       "               importance_type='split', learning_rate=0.1, max_depth=4,\n",
       "               min_child_samples=20, min_child_weight=0.001, min_split_gain=0.0,\n",
       "               n_estimators=1000, n_jobs=5, num_leaves=15, objective=None,\n",
       "               random_state=None, reg_alpha=0.0, reg_lambda=0.0, seed=77,\n",
       "               silent=True, subsample=1.0, subsample_for_bin=200000,\n",
       "               subsample_freq=0, verbosity=-1)"
      ]
     },
     "execution_count": 15,
     "metadata": {},
     "output_type": "execute_result"
    },
    {
     "name": "stdout",
     "output_type": "stream",
     "text": [
      "split\n"
     ]
    },
    {
     "data": {
      "text/plain": [
       "LGBMClassifier(boosting_type='gbdt', class_weight=None, colsample_bytree=1.0,\n",
       "               importance_type='split', learning_rate=0.1, max_depth=4,\n",
       "               min_child_samples=20, min_child_weight=0.001, min_split_gain=0.0,\n",
       "               n_estimators=1000, n_jobs=5, num_leaves=15, objective=None,\n",
       "               random_state=None, reg_alpha=0.0, reg_lambda=0.0, seed=77,\n",
       "               silent=True, subsample=1.0, subsample_for_bin=200000,\n",
       "               subsample_freq=0, verbosity=-1)"
      ]
     },
     "execution_count": 15,
     "metadata": {},
     "output_type": "execute_result"
    },
    {
     "name": "stdout",
     "output_type": "stream",
     "text": [
      "split\n"
     ]
    },
    {
     "data": {
      "text/plain": [
       "LGBMClassifier(boosting_type='gbdt', class_weight=None, colsample_bytree=1.0,\n",
       "               importance_type='split', learning_rate=0.1, max_depth=4,\n",
       "               min_child_samples=20, min_child_weight=0.001, min_split_gain=0.0,\n",
       "               n_estimators=1000, n_jobs=5, num_leaves=15, objective=None,\n",
       "               random_state=None, reg_alpha=0.0, reg_lambda=0.0, seed=77,\n",
       "               silent=True, subsample=1.0, subsample_for_bin=200000,\n",
       "               subsample_freq=0, verbosity=-1)"
      ]
     },
     "execution_count": 15,
     "metadata": {},
     "output_type": "execute_result"
    },
    {
     "name": "stdout",
     "output_type": "stream",
     "text": [
      "split\n"
     ]
    }
   ],
   "source": [
    "kfold = StratifiedKFold(n_splits=10, shuffle=True)\n",
    "\n",
    "res = []\n",
    "\n",
    "split = 0\n",
    "for train_ix, val_ix in kfold.split(X, y):\n",
    "    split = split + 1\n",
    "    print(\"split\")\n",
    "    X_train, X_val = X[train_ix], X[val_ix]  \n",
    "    y_train, y_val = y[train_ix], y[val_ix] \n",
    "    X_orig_val = df_orig[val_ix]\n",
    "\n",
    "    params = {\n",
    "              \"learning_rate\": 0.1,\n",
    "              \"max_depth\": 4,\n",
    "              \"num_leaves\": 15,\n",
    "              \"n_estimators\": 1000,\n",
    "              \"n_jobs\": 5,\n",
    "              \"verbosity\": -1,\n",
    "              \"seed\": 77,\n",
    "        }\n",
    "    estimator = LGBMClassifier(**params)\n",
    "    estimator.fit(X_train, y_train)\n",
    "\n",
    "    y_val_pred =estimator.predict_proba(X_val)"
   ]
  },
  {
   "cell_type": "code",
   "execution_count": null,
   "metadata": {},
   "outputs": [],
   "source": [
    "print(\"\\nCalculating metrics on ORIGINAL\")\n",
    "\n",
    "acc = accuracy_score(y_val, y_val_pred, normalize=False)\n",
    "f1 = f1_score(y_val, y_val_pred, average='weighted')\n",
    "\n",
    "print(\"Accuracy:\", acc)\n",
    "print(\"F1:\", f1)"
   ]
  },
  {
   "cell_type": "code",
   "execution_count": null,
   "metadata": {},
   "outputs": [],
   "source": []
  },
  {
   "cell_type": "markdown",
   "metadata": {},
   "source": [
    "# Experiment 2: Trimmed DF - removed potential labelling errors"
   ]
  },
  {
   "cell_type": "code",
   "execution_count": null,
   "metadata": {},
   "outputs": [],
   "source": [
    "df_trimmed = pd.read_csv('Banking77_trimmed_updatedLabels_load.csv')\n",
    "df_trimmed = df_trimmed.to_numpy()"
   ]
  },
  {
   "cell_type": "code",
   "execution_count": null,
   "metadata": {},
   "outputs": [],
   "source": [
    "X_dims=df\n",
    "X_dims['id']=df.index"
   ]
  },
  {
   "cell_type": "code",
   "execution_count": null,
   "metadata": {},
   "outputs": [],
   "source": [
    "X_dims_trimmed = df_trimmed.merge(X_dims, on='id', how='left')\n",
    "X_dims_trimmed.shape\n",
    "X_dims_trimmed.head(3)"
   ]
  },
  {
   "cell_type": "code",
   "execution_count": null,
   "metadata": {},
   "outputs": [],
   "source": [
    "X2 = X_dims_trimmed.drop(['id','text','category'], axis=1).to_numpy()\n",
    "y_cat2 = X_dims_trimmed['category'].to_numpy()\n",
    "label_transformer = LabelEncoder()\n",
    "y2 = label_transformer.fit_transform(y_cat2)"
   ]
  },
  {
   "cell_type": "code",
   "execution_count": null,
   "metadata": {},
   "outputs": [],
   "source": [
    "kfold = StratifiedKFold(n_splits=10, shuffle=True)\n",
    "\n",
    "res = []\n",
    "\n",
    "split = 0\n",
    "for train_ix, val_ix in kfold.split(X2, y2):\n",
    "    split = split + 1\n",
    "    print(\"split\")\n",
    "    X_train2, X_val2 = X2[train_ix], X2[val_ix]  \n",
    "    y_train2, y_val2 = y2[train_ix], y2[val_ix] \n",
    "    X_orig_val2 = df_trimmed[val_ix]\n",
    "\n",
    "    params = {\n",
    "              \"learning_rate\": 0.1,\n",
    "              \"max_depth\": 4,\n",
    "              \"num_leaves\": 15,\n",
    "              \"n_estimators\": 1000,\n",
    "              \"n_jobs\": 5,\n",
    "              \"verbosity\": -1,\n",
    "              \"seed\": 77,\n",
    "        }\n",
    "    estimator = LGBMClassifier(**params)\n",
    "    estimator.fit(X_train2, y_train2)\n",
    "\n",
    "    y_val_pred2 =estimator.predict_proba(X_val2)"
   ]
  },
  {
   "cell_type": "code",
   "execution_count": null,
   "metadata": {},
   "outputs": [],
   "source": [
    "print(\"\\nCalculating metrics on TRIMMED\")\n",
    "\n",
    "acc_2 = accuracy_score(y_val2, y_val_pred2, normalize=False)\n",
    "f1_2 = f1_score(y_val2, y_val_pred2, average='weighted')\n",
    "\n",
    "print(\"Accuracy:\", acc_2)\n",
    "print(\"F1:\", f1_2)"
   ]
  },
  {
   "cell_type": "code",
   "execution_count": null,
   "metadata": {},
   "outputs": [],
   "source": []
  },
  {
   "cell_type": "code",
   "execution_count": null,
   "metadata": {},
   "outputs": [],
   "source": []
  },
  {
   "cell_type": "code",
   "execution_count": null,
   "metadata": {},
   "outputs": [],
   "source": []
  },
  {
   "cell_type": "code",
   "execution_count": null,
   "metadata": {},
   "outputs": [],
   "source": []
  },
  {
   "cell_type": "code",
   "execution_count": null,
   "metadata": {},
   "outputs": [],
   "source": []
  },
  {
   "cell_type": "code",
   "execution_count": null,
   "metadata": {},
   "outputs": [],
   "source": []
  },
  {
   "cell_type": "code",
   "execution_count": 10,
   "metadata": {},
   "outputs": [],
   "source": []
  },
  {
   "cell_type": "code",
   "execution_count": null,
   "metadata": {},
   "outputs": [],
   "source": []
  },
  {
   "cell_type": "code",
   "execution_count": null,
   "metadata": {},
   "outputs": [],
   "source": []
  },
  {
   "cell_type": "code",
   "execution_count": null,
   "metadata": {},
   "outputs": [],
   "source": []
  },
  {
   "cell_type": "code",
   "execution_count": null,
   "metadata": {},
   "outputs": [],
   "source": []
  },
  {
   "cell_type": "code",
   "execution_count": null,
   "metadata": {},
   "outputs": [],
   "source": []
  }
 ],
 "metadata": {
  "kernelspec": {
   "display_name": "Python 3 (ipykernel)",
   "language": "python",
   "name": "python3"
  },
  "language_info": {
   "codemirror_mode": {
    "name": "ipython",
    "version": 3
   },
   "file_extension": ".py",
   "mimetype": "text/x-python",
   "name": "python",
   "nbconvert_exporter": "python",
   "pygments_lexer": "ipython3",
   "version": "3.6.8"
  }
 },
 "nbformat": 4,
 "nbformat_minor": 2
}
